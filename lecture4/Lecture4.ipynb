{
 "cells": [
  {
   "cell_type": "markdown",
   "metadata": {
    "slideshow": {
     "slide_type": "slide"
    }
   },
   "source": [
    "## Решающие деревья\n",
    "\n",
    "Пензин М.С.\n",
    "\n",
    "penzin.ml.tsu@gmail.com"
   ]
  },
  {
   "cell_type": "code",
   "execution_count": 65,
   "metadata": {
    "slideshow": {
     "slide_type": "slide"
    }
   },
   "outputs": [],
   "source": [
    "%matplotlib inline\n",
    "import numpy as np\n",
    "import pandas as pd\n",
    "import seaborn as sns\n",
    "from matplotlib import pyplot as plt\n",
    "import warnings\n",
    "warnings.filterwarnings('ignore')"
   ]
  },
  {
   "cell_type": "markdown",
   "metadata": {
    "slideshow": {
     "slide_type": "slide"
    }
   },
   "source": [
    "## Решающее дерево\n",
    "\n",
    "**Решающее дерево (Decision Tree)** - инструмент принятия решений. Широко используется в различных областях, в том числе и машинном обучении."
   ]
  },
  {
   "cell_type": "markdown",
   "metadata": {
    "slideshow": {
     "slide_type": "subslide"
    }
   },
   "source": [
    "### Стоит ли идти на улицу?\n",
    "\n",
    "<img src=\"walk.png\">"
   ]
  },
  {
   "cell_type": "markdown",
   "metadata": {
    "slideshow": {
     "slide_type": "subslide"
    }
   },
   "source": [
    "## Бинарное дерево\n",
    "\n",
    "<img src=\"bin.png\">"
   ]
  },
  {
   "cell_type": "markdown",
   "metadata": {
    "slideshow": {
     "slide_type": "slide"
    }
   },
   "source": [
    "## Задачи\n",
    "\n",
    "* __Классификация__ - в листьях дерева окажется признак указывающий на класс, к которому относится объект\n",
    "* __Регрессия__ - в листьях окажется значение целевой функции в зависимости от признаков объекта."
   ]
  },
  {
   "cell_type": "markdown",
   "metadata": {
    "slideshow": {
     "slide_type": "slide"
    }
   },
   "source": [
    "## Вопросы\n",
    "\n",
    "* Как построить решающее дерево?\n",
    "* Какие вопросы задавать дереву?\n",
    "* Какие значения признаков выбрать?"
   ]
  },
  {
   "cell_type": "markdown",
   "metadata": {
    "slideshow": {
     "slide_type": "subslide"
    }
   },
   "source": [
    "Допустим нужно отгадать знаменитость, задавая вопросы. Ответ может быть либо **\"Да\"**, либо __\"Нет\"__."
   ]
  },
  {
   "cell_type": "markdown",
   "metadata": {
    "slideshow": {
     "slide_type": "subslide"
    }
   },
   "source": [
    "## Что лучше?\n",
    "\n",
    "\"Это Ричард Фейман?\" **Vs** \"Это женщина?\""
   ]
  },
  {
   "cell_type": "markdown",
   "metadata": {
    "slideshow": {
     "slide_type": "subslide"
    }
   },
   "source": [
    "Лучше тот, что дает нам наибольшую информацию."
   ]
  },
  {
   "cell_type": "markdown",
   "metadata": {
    "slideshow": {
     "slide_type": "slide"
    }
   },
   "source": [
    "## Энтропия\n",
    "\n",
    "Для системы с $N$ состояниями можно определить энтропию Шеннона:\n",
    "\n",
    "$$\n",
    "S = - \\sum\\limits_{i = 1}^{N} p_i \\log_2 p_i\n",
    "$$"
   ]
  },
  {
   "cell_type": "markdown",
   "metadata": {
    "slideshow": {
     "slide_type": "subslide"
    }
   },
   "source": [
    "## Пример\n",
    "\n",
    "Пусть у нас есть набор прецедентов, класс которых зависит исключительно от некой целочисленной координаты $x$.\n",
    "\n",
    "(Пример взят [отсюда](https://habr.com/ru/post/171759/))\n"
   ]
  },
  {
   "cell_type": "code",
   "execution_count": 9,
   "metadata": {
    "slideshow": {
     "slide_type": "subslide"
    }
   },
   "outputs": [],
   "source": [
    "train = np.arange(0, 20)\n",
    "x = train\n",
    "target = np.array([\n",
    "    0, 1, 1, 1, \n",
    "    1, 0, 0, 0, \n",
    "    0, 1, 1, 1, \n",
    "    1, 0, 0, 0, \n",
    "    0, 0, 0, 1\n",
    "])"
   ]
  },
  {
   "cell_type": "code",
   "execution_count": 10,
   "metadata": {
    "slideshow": {
     "slide_type": "subslide"
    }
   },
   "outputs": [],
   "source": [
    "def show_traits(x, y, width):\n",
    "    p = np.bincount(y) / y.shape[0]   \n",
    "    S = (- np.nan_to_num(p * np.log2(p))).sum()\n",
    "    \n",
    "    plt.figure(figsize=(width,0.4))\n",
    "    plt.title(\"S = %f\" % S)\n",
    "    ax = plt.scatter(x, np.zeros(x.shape), c=y, \n",
    "                     cmap=plt.get_cmap(\"Wistia\"), edgecolors='k', s=100,\n",
    "                     vmin=0, vmax=1)\n",
    "    ax.axes.set_xticks(x);\n",
    "    ax.axes.spines['right'].set_color('none')\n",
    "    ax.axes.spines['left'].set_color('none')\n",
    "    ax.axes.spines['top'].set_color('none')\n",
    "    ax.axes.set_yticks([])        \n",
    "    plt.show()    \n",
    "    return S"
   ]
  },
  {
   "cell_type": "code",
   "execution_count": 11,
   "metadata": {
    "slideshow": {
     "slide_type": "subslide"
    }
   },
   "outputs": [
    {
     "data": {
      "image/png": "[encoded data removed]",
      "text/plain": [
       "<Figure size 576x28.8 with 1 Axes>"
      ]
     },
     "metadata": {
      "needs_background": "light"
     },
     "output_type": "display_data"
    }
   ],
   "source": [
    "s0 = show_traits(x, target, 8)"
   ]
  },
  {
   "cell_type": "code",
   "execution_count": 12,
   "metadata": {
    "slideshow": {
     "slide_type": "subslide"
    }
   },
   "outputs": [
    {
     "data": {
      "image/png": "[encoded data removed]",
      "text/plain": [
       "<Figure size 374.4x28.8 with 1 Axes>"
      ]
     },
     "metadata": {
      "needs_background": "light"
     },
     "output_type": "display_data"
    }
   ],
   "source": [
    "q1 = x <= 12\n",
    "s1 = show_traits(x[q1], target[q1], 8 * (q1.sum() / q1.shape[0]))"
   ]
  },
  {
   "cell_type": "code",
   "execution_count": 13,
   "metadata": {},
   "outputs": [
    {
     "data": {
      "image/png": "[encoded data removed]",
      "text/plain": [
       "<Figure size 201.6x28.8 with 1 Axes>"
      ]
     },
     "metadata": {
      "needs_background": "light"
     },
     "output_type": "display_data"
    }
   ],
   "source": [
    "q2 = x > 12\n",
    "s2 = show_traits(x[q2], target[q2], 8 * (q2.sum() / q2.shape[0]))"
   ]
  },
  {
   "cell_type": "markdown",
   "metadata": {
    "slideshow": {
     "slide_type": "slide"
    }
   },
   "source": [
    "## Прирост информации\n",
    "\n",
    "Формально, мы можем определить прирост информации (Information gain) как\n",
    "\n",
    "$$\n",
    "IG = S_0 - \\sum\\limits_{q=1}^{Q} \\frac{N_q}{N} S_q\n",
    "$$\n",
    "\n",
    "Если присмотреться, то можно заметить, что $P_q = \\frac{N_q}{N}$ - это доля объектов в ветке $q$. Фактически мы вычитаем среднюю взвешенную энтропию."
   ]
  },
  {
   "cell_type": "code",
   "execution_count": 14,
   "metadata": {
    "slideshow": {
     "slide_type": "subslide"
    }
   },
   "outputs": [
    {
     "name": "stdout",
     "output_type": "stream",
     "text": [
      "Прирост информации = 0.16088518841412436\n"
     ]
    }
   ],
   "source": [
    "IG = s0 - q1.sum()/x.shape[0] * s1 - q2.sum()/x.shape[0] * s2\n",
    "print(\"Прирост информации =\", IG)"
   ]
  },
  {
   "cell_type": "markdown",
   "metadata": {
    "slideshow": {
     "slide_type": "subslide"
    }
   },
   "source": [
    "<img src=\"tree.png\">"
   ]
  },
  {
   "cell_type": "markdown",
   "metadata": {
    "slideshow": {
     "slide_type": "subslide"
    }
   },
   "source": [
    "Мы получили дерево, которое идеально описывает наши данные => переобучено.\n",
    "\n",
    "* фиксировать глубину дерева\n",
    "* отсечь ветви"
   ]
  },
  {
   "cell_type": "markdown",
   "metadata": {
    "slideshow": {
     "slide_type": "slide"
    }
   },
   "source": [
    "## Неопределенность Джини\n",
    "\n",
    "Неопределенность Джини (Gini impurity) - это альтернативный критерий разбиения дерева в задаче классификации\n",
    "\n",
    "$$\n",
    "G = 1 - \\sum\\limits_q (p_k)^2\n",
    "$$"
   ]
  },
  {
   "cell_type": "markdown",
   "metadata": {
    "slideshow": {
     "slide_type": "slide"
    }
   },
   "source": [
    "## Ошибка классификации\n",
    "\n",
    "$$\n",
    "M = 1 - \\max p_k\n",
    "$$"
   ]
  },
  {
   "cell_type": "markdown",
   "metadata": {
    "slideshow": {
     "slide_type": "subslide"
    }
   },
   "source": [
    "Для бинарной классификации, критерии энтропии и джини дают практически одинаковый результат\n",
    "\n",
    "$$\n",
    "S = -p_+ \\log_2 p_+ - p_-\\log_2 p_- = -p_+ \\log_2 p_+ - (1 - p_+) \\log_2 (1-p_+)\n",
    "$$\n",
    "\n",
    "$$\n",
    "G = 1 - p_+^2 - p_-^2 = 2 p_+ (1 - p_+)\n",
    "$$"
   ]
  },
  {
   "cell_type": "code",
   "execution_count": 577,
   "metadata": {
    "slideshow": {
     "slide_type": "subslide"
    }
   },
   "outputs": [
    {
     "data": {
      "image/png": "[encoded data removed]",
      "text/plain": [
       "<Figure size 432x288 with 1 Axes>"
      ]
     },
     "metadata": {
      "needs_background": "light"
     },
     "output_type": "display_data"
    }
   ],
   "source": [
    "x = np.linspace(0, 1, 100)\n",
    "plt.plot(x, 4.0 * x * (1 - x), label=\"2*gini\")\n",
    "plt.plot(x, -x*np.log2(x) - (1-x)*np.log2(1-x), label=\"entropy\")\n",
    "plt.plot(x, 2*(1 - np.maximum(x, 1-x)), label=\"2*misclass\")\n",
    "plt.xlabel(\"$p_+$\"); plt.ylabel(\"criterion\"); plt.legend()\n",
    "plt.show()"
   ]
  },
  {
   "cell_type": "markdown",
   "metadata": {
    "slideshow": {
     "slide_type": "slide"
    }
   },
   "source": [
    "## Пример"
   ]
  },
  {
   "cell_type": "code",
   "execution_count": 15,
   "metadata": {},
   "outputs": [
    {
     "data": {
      "text/plain": [
       "1.0"
      ]
     },
     "execution_count": 15,
     "metadata": {},
     "output_type": "execute_result"
    }
   ],
   "source": [
    "from sklearn.tree import DecisionTreeClassifier\n",
    "\n",
    "tree = DecisionTreeClassifier()\n",
    "tree.fit(train.reshape(-1, 1), target)\n",
    "predict = tree.predict(train.reshape(-1, 1))\n",
    "(predict == target).sum() / target.shape[0]"
   ]
  },
  {
   "cell_type": "code",
   "execution_count": 16,
   "metadata": {
    "slideshow": {
     "slide_type": "subslide"
    }
   },
   "outputs": [],
   "source": [
    "from sklearn.tree import export_graphviz\n",
    "export_graphviz(tree, feature_names=['x'], \n",
    "                out_file=\"sktree.dot\", filled=True)\n",
    "!dot -Tpng 'sktree.dot' -o 'sktree.png'"
   ]
  },
  {
   "cell_type": "markdown",
   "metadata": {
    "slideshow": {
     "slide_type": "subslide"
    }
   },
   "source": [
    "<img src=\"sktree.png\">"
   ]
  },
  {
   "cell_type": "markdown",
   "metadata": {
    "slideshow": {
     "slide_type": "subslide"
    }
   },
   "source": [
    "Откуда возникло 12.5, 8.5 и прочее?"
   ]
  },
  {
   "cell_type": "code",
   "execution_count": 580,
   "metadata": {
    "scrolled": true
   },
   "outputs": [
    {
     "data": {
      "text/html": [
       "<div>\n",
       "<style scoped>\n",
       "    .dataframe tbody tr th:only-of-type {\n",
       "        vertical-align: middle;\n",
       "    }\n",
       "\n",
       "    .dataframe tbody tr th {\n",
       "        vertical-align: top;\n",
       "    }\n",
       "\n",
       "    .dataframe thead th {\n",
       "        text-align: right;\n",
       "    }\n",
       "</style>\n",
       "<table border=\"1\" class=\"dataframe\">\n",
       "  <thead>\n",
       "    <tr style=\"text-align: right;\">\n",
       "      <th></th>\n",
       "      <th>X</th>\n",
       "      <th>Target</th>\n",
       "    </tr>\n",
       "  </thead>\n",
       "  <tbody>\n",
       "    <tr>\n",
       "      <th>11</th>\n",
       "      <td>11</td>\n",
       "      <td>1</td>\n",
       "    </tr>\n",
       "    <tr>\n",
       "      <th>12</th>\n",
       "      <td>12</td>\n",
       "      <td>1</td>\n",
       "    </tr>\n",
       "    <tr>\n",
       "      <th>13</th>\n",
       "      <td>13</td>\n",
       "      <td>0</td>\n",
       "    </tr>\n",
       "    <tr>\n",
       "      <th>14</th>\n",
       "      <td>14</td>\n",
       "      <td>0</td>\n",
       "    </tr>\n",
       "  </tbody>\n",
       "</table>\n",
       "</div>"
      ],
      "text/plain": [
       "     X  Target\n",
       "11  11       1\n",
       "12  12       1\n",
       "13  13       0\n",
       "14  14       0"
      ]
     },
     "execution_count": 580,
     "metadata": {},
     "output_type": "execute_result"
    }
   ],
   "source": [
    "df = pd.DataFrame({\"X\": train, \"Target\": target})\n",
    "df[[\"X\", \"Target\"]][11:15]"
   ]
  },
  {
   "cell_type": "markdown",
   "metadata": {
    "slideshow": {
     "slide_type": "subslide"
    }
   },
   "source": [
    "Если признаков несколько, то значения также сортируются, но уже по нескольким признакам. Затем значение признака также берется в виде среднего между двумя значениями, при которых происходит смена класса."
   ]
  },
  {
   "cell_type": "code",
   "execution_count": 19,
   "metadata": {
    "slideshow": {
     "slide_type": "subslide"
    }
   },
   "outputs": [],
   "source": [
    "# Добавим второй признак. Сгенерируем его в виде случайной последовательности\n",
    "df = pd.DataFrame({\"X\": train, \"Y\": np.random.normal(size=train.shape), \"Target\": target})"
   ]
  },
  {
   "cell_type": "code",
   "execution_count": 20,
   "metadata": {
    "slideshow": {
     "slide_type": "subslide"
    }
   },
   "outputs": [
    {
     "data": {
      "text/html": [
       "<div>\n",
       "<style scoped>\n",
       "    .dataframe tbody tr th:only-of-type {\n",
       "        vertical-align: middle;\n",
       "    }\n",
       "\n",
       "    .dataframe tbody tr th {\n",
       "        vertical-align: top;\n",
       "    }\n",
       "\n",
       "    .dataframe thead th {\n",
       "        text-align: right;\n",
       "    }\n",
       "</style>\n",
       "<table border=\"1\" class=\"dataframe\">\n",
       "  <thead>\n",
       "    <tr style=\"text-align: right;\">\n",
       "      <th></th>\n",
       "      <th>X</th>\n",
       "      <th>Y</th>\n",
       "      <th>Target</th>\n",
       "    </tr>\n",
       "  </thead>\n",
       "  <tbody>\n",
       "    <tr>\n",
       "      <th>0</th>\n",
       "      <td>0</td>\n",
       "      <td>-0.255996</td>\n",
       "      <td>0</td>\n",
       "    </tr>\n",
       "    <tr>\n",
       "      <th>1</th>\n",
       "      <td>1</td>\n",
       "      <td>1.713276</td>\n",
       "      <td>1</td>\n",
       "    </tr>\n",
       "    <tr>\n",
       "      <th>2</th>\n",
       "      <td>2</td>\n",
       "      <td>-0.277586</td>\n",
       "      <td>1</td>\n",
       "    </tr>\n",
       "    <tr>\n",
       "      <th>3</th>\n",
       "      <td>3</td>\n",
       "      <td>0.257722</td>\n",
       "      <td>1</td>\n",
       "    </tr>\n",
       "    <tr>\n",
       "      <th>4</th>\n",
       "      <td>4</td>\n",
       "      <td>-0.662793</td>\n",
       "      <td>1</td>\n",
       "    </tr>\n",
       "    <tr>\n",
       "      <th>5</th>\n",
       "      <td>5</td>\n",
       "      <td>-1.996754</td>\n",
       "      <td>0</td>\n",
       "    </tr>\n",
       "    <tr>\n",
       "      <th>6</th>\n",
       "      <td>6</td>\n",
       "      <td>0.601569</td>\n",
       "      <td>0</td>\n",
       "    </tr>\n",
       "    <tr>\n",
       "      <th>7</th>\n",
       "      <td>7</td>\n",
       "      <td>-1.108838</td>\n",
       "      <td>0</td>\n",
       "    </tr>\n",
       "    <tr>\n",
       "      <th>8</th>\n",
       "      <td>8</td>\n",
       "      <td>0.185526</td>\n",
       "      <td>0</td>\n",
       "    </tr>\n",
       "    <tr>\n",
       "      <th>9</th>\n",
       "      <td>9</td>\n",
       "      <td>-0.551405</td>\n",
       "      <td>1</td>\n",
       "    </tr>\n",
       "    <tr>\n",
       "      <th>10</th>\n",
       "      <td>10</td>\n",
       "      <td>0.752804</td>\n",
       "      <td>1</td>\n",
       "    </tr>\n",
       "    <tr>\n",
       "      <th>11</th>\n",
       "      <td>11</td>\n",
       "      <td>-1.285843</td>\n",
       "      <td>1</td>\n",
       "    </tr>\n",
       "    <tr>\n",
       "      <th>12</th>\n",
       "      <td>12</td>\n",
       "      <td>0.639987</td>\n",
       "      <td>1</td>\n",
       "    </tr>\n",
       "    <tr>\n",
       "      <th>13</th>\n",
       "      <td>13</td>\n",
       "      <td>-1.757465</td>\n",
       "      <td>0</td>\n",
       "    </tr>\n",
       "    <tr>\n",
       "      <th>14</th>\n",
       "      <td>14</td>\n",
       "      <td>-0.229283</td>\n",
       "      <td>0</td>\n",
       "    </tr>\n",
       "    <tr>\n",
       "      <th>15</th>\n",
       "      <td>15</td>\n",
       "      <td>-0.138234</td>\n",
       "      <td>0</td>\n",
       "    </tr>\n",
       "    <tr>\n",
       "      <th>16</th>\n",
       "      <td>16</td>\n",
       "      <td>0.454956</td>\n",
       "      <td>0</td>\n",
       "    </tr>\n",
       "    <tr>\n",
       "      <th>17</th>\n",
       "      <td>17</td>\n",
       "      <td>-0.779324</td>\n",
       "      <td>0</td>\n",
       "    </tr>\n",
       "    <tr>\n",
       "      <th>18</th>\n",
       "      <td>18</td>\n",
       "      <td>0.182545</td>\n",
       "      <td>0</td>\n",
       "    </tr>\n",
       "    <tr>\n",
       "      <th>19</th>\n",
       "      <td>19</td>\n",
       "      <td>0.002676</td>\n",
       "      <td>1</td>\n",
       "    </tr>\n",
       "  </tbody>\n",
       "</table>\n",
       "</div>"
      ],
      "text/plain": [
       "     X         Y  Target\n",
       "0    0 -0.255996       0\n",
       "1    1  1.713276       1\n",
       "2    2 -0.277586       1\n",
       "3    3  0.257722       1\n",
       "4    4 -0.662793       1\n",
       "5    5 -1.996754       0\n",
       "6    6  0.601569       0\n",
       "7    7 -1.108838       0\n",
       "8    8  0.185526       0\n",
       "9    9 -0.551405       1\n",
       "10  10  0.752804       1\n",
       "11  11 -1.285843       1\n",
       "12  12  0.639987       1\n",
       "13  13 -1.757465       0\n",
       "14  14 -0.229283       0\n",
       "15  15 -0.138234       0\n",
       "16  16  0.454956       0\n",
       "17  17 -0.779324       0\n",
       "18  18  0.182545       0\n",
       "19  19  0.002676       1"
      ]
     },
     "execution_count": 20,
     "metadata": {},
     "output_type": "execute_result"
    }
   ],
   "source": [
    "df[[\"X\", \"Y\", \"Target\"]].sort_values(by=[\"X\", \"Y\"])"
   ]
  },
  {
   "cell_type": "code",
   "execution_count": 21,
   "metadata": {
    "slideshow": {
     "slide_type": "subslide"
    }
   },
   "outputs": [
    {
     "data": {
      "text/html": [
       "<div>\n",
       "<style scoped>\n",
       "    .dataframe tbody tr th:only-of-type {\n",
       "        vertical-align: middle;\n",
       "    }\n",
       "\n",
       "    .dataframe tbody tr th {\n",
       "        vertical-align: top;\n",
       "    }\n",
       "\n",
       "    .dataframe thead th {\n",
       "        text-align: right;\n",
       "    }\n",
       "</style>\n",
       "<table border=\"1\" class=\"dataframe\">\n",
       "  <thead>\n",
       "    <tr style=\"text-align: right;\">\n",
       "      <th></th>\n",
       "      <th>X</th>\n",
       "      <th>Y</th>\n",
       "      <th>Target</th>\n",
       "    </tr>\n",
       "  </thead>\n",
       "  <tbody>\n",
       "    <tr>\n",
       "      <th>5</th>\n",
       "      <td>5</td>\n",
       "      <td>-1.996754</td>\n",
       "      <td>0</td>\n",
       "    </tr>\n",
       "    <tr>\n",
       "      <th>13</th>\n",
       "      <td>13</td>\n",
       "      <td>-1.757465</td>\n",
       "      <td>0</td>\n",
       "    </tr>\n",
       "    <tr>\n",
       "      <th>11</th>\n",
       "      <td>11</td>\n",
       "      <td>-1.285843</td>\n",
       "      <td>1</td>\n",
       "    </tr>\n",
       "    <tr>\n",
       "      <th>7</th>\n",
       "      <td>7</td>\n",
       "      <td>-1.108838</td>\n",
       "      <td>0</td>\n",
       "    </tr>\n",
       "    <tr>\n",
       "      <th>17</th>\n",
       "      <td>17</td>\n",
       "      <td>-0.779324</td>\n",
       "      <td>0</td>\n",
       "    </tr>\n",
       "    <tr>\n",
       "      <th>4</th>\n",
       "      <td>4</td>\n",
       "      <td>-0.662793</td>\n",
       "      <td>1</td>\n",
       "    </tr>\n",
       "    <tr>\n",
       "      <th>9</th>\n",
       "      <td>9</td>\n",
       "      <td>-0.551405</td>\n",
       "      <td>1</td>\n",
       "    </tr>\n",
       "    <tr>\n",
       "      <th>2</th>\n",
       "      <td>2</td>\n",
       "      <td>-0.277586</td>\n",
       "      <td>1</td>\n",
       "    </tr>\n",
       "    <tr>\n",
       "      <th>0</th>\n",
       "      <td>0</td>\n",
       "      <td>-0.255996</td>\n",
       "      <td>0</td>\n",
       "    </tr>\n",
       "    <tr>\n",
       "      <th>14</th>\n",
       "      <td>14</td>\n",
       "      <td>-0.229283</td>\n",
       "      <td>0</td>\n",
       "    </tr>\n",
       "    <tr>\n",
       "      <th>15</th>\n",
       "      <td>15</td>\n",
       "      <td>-0.138234</td>\n",
       "      <td>0</td>\n",
       "    </tr>\n",
       "    <tr>\n",
       "      <th>19</th>\n",
       "      <td>19</td>\n",
       "      <td>0.002676</td>\n",
       "      <td>1</td>\n",
       "    </tr>\n",
       "    <tr>\n",
       "      <th>18</th>\n",
       "      <td>18</td>\n",
       "      <td>0.182545</td>\n",
       "      <td>0</td>\n",
       "    </tr>\n",
       "    <tr>\n",
       "      <th>8</th>\n",
       "      <td>8</td>\n",
       "      <td>0.185526</td>\n",
       "      <td>0</td>\n",
       "    </tr>\n",
       "    <tr>\n",
       "      <th>3</th>\n",
       "      <td>3</td>\n",
       "      <td>0.257722</td>\n",
       "      <td>1</td>\n",
       "    </tr>\n",
       "    <tr>\n",
       "      <th>16</th>\n",
       "      <td>16</td>\n",
       "      <td>0.454956</td>\n",
       "      <td>0</td>\n",
       "    </tr>\n",
       "    <tr>\n",
       "      <th>6</th>\n",
       "      <td>6</td>\n",
       "      <td>0.601569</td>\n",
       "      <td>0</td>\n",
       "    </tr>\n",
       "    <tr>\n",
       "      <th>12</th>\n",
       "      <td>12</td>\n",
       "      <td>0.639987</td>\n",
       "      <td>1</td>\n",
       "    </tr>\n",
       "    <tr>\n",
       "      <th>10</th>\n",
       "      <td>10</td>\n",
       "      <td>0.752804</td>\n",
       "      <td>1</td>\n",
       "    </tr>\n",
       "    <tr>\n",
       "      <th>1</th>\n",
       "      <td>1</td>\n",
       "      <td>1.713276</td>\n",
       "      <td>1</td>\n",
       "    </tr>\n",
       "  </tbody>\n",
       "</table>\n",
       "</div>"
      ],
      "text/plain": [
       "     X         Y  Target\n",
       "5    5 -1.996754       0\n",
       "13  13 -1.757465       0\n",
       "11  11 -1.285843       1\n",
       "7    7 -1.108838       0\n",
       "17  17 -0.779324       0\n",
       "4    4 -0.662793       1\n",
       "9    9 -0.551405       1\n",
       "2    2 -0.277586       1\n",
       "0    0 -0.255996       0\n",
       "14  14 -0.229283       0\n",
       "15  15 -0.138234       0\n",
       "19  19  0.002676       1\n",
       "18  18  0.182545       0\n",
       "8    8  0.185526       0\n",
       "3    3  0.257722       1\n",
       "16  16  0.454956       0\n",
       "6    6  0.601569       0\n",
       "12  12  0.639987       1\n",
       "10  10  0.752804       1\n",
       "1    1  1.713276       1"
      ]
     },
     "execution_count": 21,
     "metadata": {},
     "output_type": "execute_result"
    }
   ],
   "source": [
    "df[[\"X\", \"Y\", \"Target\"]].sort_values(by=[\"Y\", \"X\"])"
   ]
  },
  {
   "cell_type": "code",
   "execution_count": 22,
   "metadata": {
    "slideshow": {
     "slide_type": "subslide"
    }
   },
   "outputs": [],
   "source": [
    "tree.fit(df[[\"X\", \"Y\"]], df[\"Target\"])\n",
    "export_graphviz(tree, feature_names=['x', 'y'], \n",
    "                out_file=\"sktree2.dot\", filled=True)\n",
    "!dot -Tpng 'sktree2.dot' -o 'sktree2.png'"
   ]
  },
  {
   "cell_type": "markdown",
   "metadata": {
    "slideshow": {
     "slide_type": "subslide"
    }
   },
   "source": [
    "<img src=\"sktree2.png\">"
   ]
  },
  {
   "cell_type": "code",
   "execution_count": 67,
   "metadata": {
    "slideshow": {
     "slide_type": "slide"
    }
   },
   "outputs": [],
   "source": [
    "# Теперь рассмотрим, что же на самом деле делают деревья\n",
    "\n",
    "# Создадим два набора объектов, распределенных по Гауссу\n",
    "train1 = np.random.normal(size=(100, 2))\n",
    "train2 = np.random.normal(2, size=(100, 2))\n",
    "data = np.vstack([train1, train2])\n",
    "target = np.hstack([np.zeros(train1.shape[0]), np.ones(train2.shape[0])])"
   ]
  },
  {
   "cell_type": "code",
   "execution_count": 68,
   "metadata": {
    "slideshow": {
     "slide_type": "subslide"
    }
   },
   "outputs": [
    {
     "data": {
      "image/png": "[encoded data removed]",
      "text/plain": [
       "<Figure size 432x288 with 1 Axes>"
      ]
     },
     "metadata": {
      "needs_background": "light"
     },
     "output_type": "display_data"
    }
   ],
   "source": [
    "plt.scatter(data[:, 0], data[:, 1], c=target, \n",
    "            cmap=plt.get_cmap(\"Wistia\"),\n",
    "            edgecolors='k', s=100, vmin=0, vmax=1);\n",
    "plt.plot(np.linspace(-2, 5, 10), np.linspace(4, -3, 10))\n",
    "plt.grid()"
   ]
  },
  {
   "cell_type": "code",
   "execution_count": 69,
   "metadata": {
    "slideshow": {
     "slide_type": "subslide"
    }
   },
   "outputs": [],
   "source": [
    "def tree_scatter(data, target, depth, outer=0.1):\n",
    "    x_min, x_max = data[:, 0].min(), data[:, 0].max()\n",
    "    x_w = x_max - x_min\n",
    "    y_min, y_max = data[:, 1].min(), data[:, 1].max()\n",
    "    y_w = y_max - y_min\n",
    "    xx, yy = np.meshgrid(\n",
    "        np.arange(x_min - x_w * outer, x_max + x_w * outer, 0.05),\n",
    "        np.arange(y_min - y_w * outer, x_max + y_w * outer, 0.05),\n",
    "    )\n",
    "\n",
    "    tree = DecisionTreeClassifier(max_depth=depth)\n",
    "    tree.fit(data, target)\n",
    "    predict = tree.predict(np.stack([xx.ravel(), yy.ravel()], axis=1))\n",
    "    plt.pcolormesh(xx, yy, predict.reshape(xx.shape), cmap=plt.get_cmap(\"Wistia\"))\n",
    "    plt.scatter(data[:, 0], data[:, 1], c=target, \n",
    "                cmap=plt.get_cmap(\"Wistia\"),\n",
    "                edgecolors='k', s=50, vmin=0, vmax=1);\n",
    "    plt.show()"
   ]
  },
  {
   "cell_type": "code",
   "execution_count": 72,
   "metadata": {
    "slideshow": {
     "slide_type": "subslide"
    }
   },
   "outputs": [
    {
     "data": {
      "image/png": "[encoded data removed]",
      "text/plain": [
       "<Figure size 432x288 with 1 Axes>"
      ]
     },
     "metadata": {
      "needs_background": "light"
     },
     "output_type": "display_data"
    }
   ],
   "source": [
    "tree_scatter(data, target, 10)"
   ]
  },
  {
   "cell_type": "code",
   "execution_count": 73,
   "metadata": {
    "slideshow": {
     "slide_type": "subslide"
    }
   },
   "outputs": [],
   "source": [
    "# А теперь рассмотрим сложный случай\n",
    "\n",
    "data = np.random.uniform(size=(500, 2))\n",
    "target = np.zeros(data.shape[0])\n",
    "target[data[:, 0] > data[:, 1]] = 1"
   ]
  },
  {
   "cell_type": "code",
   "execution_count": 74,
   "metadata": {
    "slideshow": {
     "slide_type": "subslide"
    }
   },
   "outputs": [
    {
     "data": {
      "image/png": "[encoded data removed]",
      "text/plain": [
       "<Figure size 432x288 with 1 Axes>"
      ]
     },
     "metadata": {
      "needs_background": "light"
     },
     "output_type": "display_data"
    }
   ],
   "source": [
    "tree_scatter(data, target, 10, outer=0.1)"
   ]
  },
  {
   "cell_type": "markdown",
   "metadata": {
    "slideshow": {
     "slide_type": "slide"
    }
   },
   "source": [
    "## Алгоритмы разбиения\n",
    "\n",
    "* ID3\n",
    "* C4.5\n",
    "* C5.0\n",
    "* CART (используется в sklearn, но не поддерживает категориальные признаки)"
   ]
  },
  {
   "cell_type": "markdown",
   "metadata": {
    "slideshow": {
     "slide_type": "slide"
    }
   },
   "source": [
    "## Регрессия\n",
    "\n",
    "Алгоритм тот же самый, но в качестве критерия выбирается минимизация среднеквадратичной дисперсии\n",
    "\n",
    "$$\n",
    "D = \\frac{1}{N} \\sum\\limits_{i=0}^{N-1} \\left(y_i - \\frac{1}{N}\\sum\\limits_{i=0}^{N-1}y_i\\right)^2\n",
    "$$"
   ]
  },
  {
   "cell_type": "code",
   "execution_count": 75,
   "metadata": {
    "slideshow": {
     "slide_type": "subslide"
    }
   },
   "outputs": [],
   "source": [
    "from sklearn.tree import DecisionTreeRegressor\n",
    "\n",
    "def reg_test(depth=3):\n",
    "    f = lambda x: np.sin(x)*np.exp(-x**2/0.5) + np.exp(-(x-np.pi)**2)\n",
    "    x = np.linspace(-np.pi, np.pi, 50).reshape((50, 1))\n",
    "    y = f(x)\n",
    "    noise = np.random.normal(0, 0.1, size=y.shape)\n",
    "    plt.plot(x, y, '-')\n",
    "    plt.plot(x, y + noise, '.')\n",
    "\n",
    "    tree = DecisionTreeRegressor(max_depth=depth)\n",
    "    tree.fit(x, y + noise)\n",
    "    x = np.linspace(x.min()-1, x.max()+1, 1000).reshape((1000, 1))\n",
    "    y = tree.predict(x)\n",
    "    plt.plot(x, y)\n",
    "    plt.show()"
   ]
  },
  {
   "cell_type": "code",
   "execution_count": 81,
   "metadata": {
    "slideshow": {
     "slide_type": "subslide"
    }
   },
   "outputs": [
    {
     "data": {
      "image/png": "[encoded data removed]",
      "text/plain": [
       "<Figure size 432x288 with 1 Axes>"
      ]
     },
     "metadata": {
      "needs_background": "light"
     },
     "output_type": "display_data"
    }
   ],
   "source": [
    "reg_test(3)"
   ]
  },
  {
   "cell_type": "markdown",
   "metadata": {
    "slideshow": {
     "slide_type": "slide"
    }
   },
   "source": [
    "## Основные выводы"
   ]
  },
  {
   "cell_type": "markdown",
   "metadata": {
    "slideshow": {
     "slide_type": "subslide"
    }
   },
   "source": [
    "### Плюсы\n",
    "\n",
    "* простота интерпретации (дерево - это фактически набор простых правил)\n",
    "* высокая скорость обучения и прогнозирования\n",
    "* небольшое число параметров модели\n",
    "* не требует предварительной подготовки данных\n",
    "* поддержка всех типов признаков"
   ]
  },
  {
   "cell_type": "markdown",
   "metadata": {
    "slideshow": {
     "slide_type": "subslide"
    }
   },
   "source": [
    "### Минус\n",
    "\n",
    "* чувствительность к шумам или к изменениям данных (приводит к порой к кардинально другому дереву)\n",
    "* разделяющая классы граница не всегда строится эффективно\n",
    "* ограничение глубины дерева или отсечения ветвей (проблема переобучения)\n",
    "* сложно поддерживать пропуски в данных\n",
    "* плохо работает при большом числе признаков\n",
    "* деревья умеют только интерполировать\n",
    "* __данный алгоритм сам по себе почти никогда не применяется__"
   ]
  },
  {
   "cell_type": "markdown",
   "metadata": {
    "slideshow": {
     "slide_type": "slide"
    }
   },
   "source": [
    "## Гиперпараметры\n",
    "\n",
    "**Гиперпараметр модели** - некий параметр алгоритма, используемый для анализа данных. Не меняется при обучении."
   ]
  },
  {
   "cell_type": "markdown",
   "metadata": {
    "slideshow": {
     "slide_type": "subslide"
    }
   },
   "source": [
    "Для решающих деревьев\n",
    " * max_depth - максимальная глубина дерева\n",
    " * max_features - максимальное число признаков, по которым ищется лучшее разбиение\n",
    " * min_samples_leaf - минимальное число объектов в листе (лист должен быть верен как минимум для этого числа прецендентов в обучающей выборке)"
   ]
  },
  {
   "cell_type": "markdown",
   "metadata": {
    "slideshow": {
     "slide_type": "subslide"
    }
   },
   "source": [
    "Как определить значение этих параметров?"
   ]
  },
  {
   "cell_type": "markdown",
   "metadata": {
    "slideshow": {
     "slide_type": "slide"
    }
   },
   "source": [
    "## Оценка работы модели\n",
    "\n",
    "Наша задача создать такую модель, которая сможет предсказывать правильные значения на новых данных, которых не было среди обучающей выборки."
   ]
  },
  {
   "cell_type": "markdown",
   "metadata": {
    "slideshow": {
     "slide_type": "subslide"
    }
   },
   "source": [
    "* отложенная выборка - при этом подходе, данные разбиваются на две части: обучающая выборку и тестовую выборку. Стоит использовать тогда, когда данных очень много.\n",
    "* кросс-валидация (cross-validation), наиболее популярен подход K-fold"
   ]
  },
  {
   "cell_type": "markdown",
   "metadata": {
    "slideshow": {
     "slide_type": "subslide"
    }
   },
   "source": [
    "<img src=\"cross_validation.png\" style=\"height: 100%; width: auto;padding:10px\">"
   ]
  },
  {
   "cell_type": "markdown",
   "metadata": {
    "slideshow": {
     "slide_type": "subslide"
    }
   },
   "source": [
    "А что если какой-то признак встречается довольно редко и полностью попал в тестовую или обучающую выборку?"
   ]
  },
  {
   "cell_type": "markdown",
   "metadata": {
    "slideshow": {
     "slide_type": "subslide"
    }
   },
   "source": [
    "## Стратификация\n",
    "\n",
    "Это довольно простой способ уменьшения разброса оценок. Заключается в том, что мы разбиваем данные на страты по некому признаку. Затем подбираем наши выборки так, чтобы признак встречался приблизительно одинаково часто во всех выборках."
   ]
  },
  {
   "cell_type": "markdown",
   "metadata": {
    "slideshow": {
     "slide_type": "slide"
    }
   },
   "source": [
    "## Пример"
   ]
  },
  {
   "cell_type": "code",
   "execution_count": 84,
   "metadata": {},
   "outputs": [],
   "source": [
    "df = pd.read_csv(\"../data/mlbootcamp5_train.csv\", \n",
    "                 sep=\";\", index_col='id')\n",
    "target = df['cardio']"
   ]
  },
  {
   "cell_type": "code",
   "execution_count": 85,
   "metadata": {
    "slideshow": {
     "slide_type": "subslide"
    }
   },
   "outputs": [],
   "source": [
    "from sklearn.model_selection import train_test_split\n",
    "\n",
    "train, test, target_train, target_test = train_test_split(\n",
    "    df[['age','height','weight']], target, \n",
    "    test_size=0.3)"
   ]
  },
  {
   "cell_type": "code",
   "execution_count": 87,
   "metadata": {
    "slideshow": {
     "slide_type": "subslide"
    }
   },
   "outputs": [
    {
     "data": {
      "text/plain": [
       "0.6141904761904762"
      ]
     },
     "execution_count": 87,
     "metadata": {},
     "output_type": "execute_result"
    }
   ],
   "source": [
    "# Обучаем модель на тренировочной выборке\n",
    "tree = DecisionTreeClassifier(max_depth=6, random_state=13)\n",
    "tree.fit(train, target_train);\n",
    "predict = tree.predict(test)\n",
    "\n",
    "# Проверяем всегда на тестовой\n",
    "from sklearn.metrics import accuracy_score\n",
    "accuracy_score(predict, target_test)"
   ]
  },
  {
   "cell_type": "code",
   "execution_count": 54,
   "metadata": {
    "slideshow": {
     "slide_type": "subslide"
    }
   },
   "outputs": [
    {
     "data": {
      "text/plain": [
       "0.7223809523809523"
      ]
     },
     "execution_count": 54,
     "metadata": {},
     "output_type": "execute_result"
    }
   ],
   "source": [
    "train, test, target_train, target_test = train_test_split(\n",
    "    df[['age','height','weight', 'ap_hi', 'ap_lo']], target, \n",
    "    test_size=0.3)\n",
    "tree = DecisionTreeClassifier(max_depth=5, random_state=13)\n",
    "tree.fit(train, target_train);\n",
    "predict = tree.predict(test)\n",
    "\n",
    "from sklearn.metrics import accuracy_score\n",
    "accuracy_score(predict, target_test)"
   ]
  },
  {
   "cell_type": "code",
   "execution_count": 88,
   "metadata": {
    "slideshow": {
     "slide_type": "subslide"
    }
   },
   "outputs": [
    {
     "data": {
      "text/plain": [
       "(array([0.7139796 , 0.71606737, 0.71666738]), 0.7155714513121533)"
      ]
     },
     "execution_count": 88,
     "metadata": {},
     "output_type": "execute_result"
    }
   ],
   "source": [
    "from sklearn.model_selection import cross_validate, cross_val_score\n",
    "data= df[['age','height','weight', 'ap_hi', 'ap_lo']]\n",
    "target = df['cardio']\n",
    "tree = DecisionTreeClassifier(max_depth=10, random_state=13)\n",
    "cv = cross_val_score(tree, \n",
    "                    df[['age','height','weight', 'ap_hi', 'ap_lo']], \n",
    "                    target,\n",
    "                    n_jobs=2,\n",
    "                    scoring='accuracy',\n",
    "                    cv=3)\n",
    "cv, cv.mean()"
   ]
  },
  {
   "cell_type": "code",
   "execution_count": 58,
   "metadata": {
    "slideshow": {
     "slide_type": "subslide"
    }
   },
   "outputs": [
    {
     "data": {
      "text/plain": [
       "(array([0.62102511, 0.6208803 , 0.62456607]), 0.6221571590292209)"
      ]
     },
     "execution_count": 58,
     "metadata": {},
     "output_type": "execute_result"
    }
   ],
   "source": [
    "tree = DecisionTreeClassifier(max_depth=50, random_state=13)\n",
    "cv = cross_val_score(tree, \n",
    "                    df[['age','height','weight', 'ap_hi', 'ap_lo']], \n",
    "                    target,\n",
    "                    n_jobs=2,\n",
    "                    scoring='accuracy',\n",
    "                    cv=3)\n",
    "cv, cv.mean()"
   ]
  },
  {
   "cell_type": "code",
   "execution_count": 59,
   "metadata": {
    "slideshow": {
     "slide_type": "slide"
    }
   },
   "outputs": [],
   "source": [
    "train, test, target_train, target_test = train_test_split(\n",
    "    df[['age','height','weight', 'ap_hi', 'ap_lo']], target, \n",
    "    test_size=0.3\n",
    ")"
   ]
  },
  {
   "cell_type": "code",
   "execution_count": 61,
   "metadata": {
    "slideshow": {
     "slide_type": "subslide"
    }
   },
   "outputs": [
    {
     "name": "stdout",
     "output_type": "stream",
     "text": [
      "CPU times: user 4.53 s, sys: 0 ns, total: 4.53 s\n",
      "Wall time: 4.55 s\n"
     ]
    },
    {
     "data": {
      "text/plain": [
       "GridSearchCV(cv=3, error_score=nan,\n",
       "             estimator=DecisionTreeClassifier(ccp_alpha=0.0, class_weight=None,\n",
       "                                              criterion='gini', max_depth=None,\n",
       "                                              max_features=None,\n",
       "                                              max_leaf_nodes=None,\n",
       "                                              min_impurity_decrease=0.0,\n",
       "                                              min_impurity_split=None,\n",
       "                                              min_samples_leaf=1,\n",
       "                                              min_samples_split=2,\n",
       "                                              min_weight_fraction_leaf=0.0,\n",
       "                                              presort='deprecated',\n",
       "                                              random_state=13,\n",
       "                                              splitter='best'),\n",
       "             iid='deprecated', n_jobs=None,\n",
       "             param_grid={'max_depth': array([2, 3, 4, 5, 6, 7, 8, 9]),\n",
       "                         'min_samples_split': [2, 4, 8, 16]},\n",
       "             pre_dispatch='2*n_jobs', refit=True, return_train_score=False,\n",
       "             scoring='accuracy', verbose=0)"
      ]
     },
     "execution_count": 61,
     "metadata": {},
     "output_type": "execute_result"
    }
   ],
   "source": [
    "%%time\n",
    "from sklearn.model_selection import GridSearchCV\n",
    "params = {\n",
    "    'max_depth': np.arange(2, 10, 1),\n",
    "    'min_samples_split': [2, 4, 8, 16],\n",
    "}\n",
    "tree = DecisionTreeClassifier(random_state=13)\n",
    "grid = GridSearchCV(\n",
    "    tree, params, scoring='accuracy',\n",
    "    cv=3,\n",
    ")\n",
    "grid.fit(train, target_train);"
   ]
  },
  {
   "cell_type": "code",
   "execution_count": 62,
   "metadata": {
    "slideshow": {
     "slide_type": "subslide"
    }
   },
   "outputs": [
    {
     "data": {
      "text/plain": [
       "0.7209795624503953"
      ]
     },
     "execution_count": 62,
     "metadata": {},
     "output_type": "execute_result"
    }
   ],
   "source": [
    "grid.best_score_"
   ]
  },
  {
   "cell_type": "code",
   "execution_count": 63,
   "metadata": {},
   "outputs": [
    {
     "data": {
      "text/plain": [
       "{'max_depth': 5, 'min_samples_split': 2}"
      ]
     },
     "execution_count": 63,
     "metadata": {},
     "output_type": "execute_result"
    }
   ],
   "source": [
    "grid.best_params_"
   ]
  },
  {
   "cell_type": "code",
   "execution_count": 64,
   "metadata": {},
   "outputs": [
    {
     "data": {
      "text/plain": [
       "0.7207142857142858"
      ]
     },
     "execution_count": 64,
     "metadata": {},
     "output_type": "execute_result"
    }
   ],
   "source": [
    "predict = grid.best_estimator_.predict(test)\n",
    "accuracy_score(target_test, predict)"
   ]
  }
 ],
 "metadata": {
  "celltoolbar": "Slideshow",
  "kernelspec": {
   "display_name": "Python 3",
   "language": "python",
   "name": "python3"
  },
  "language_info": {
   "codemirror_mode": {
    "name": "ipython",
    "version": 3
   },
   "file_extension": ".py",
   "mimetype": "text/x-python",
   "name": "python",
   "nbconvert_exporter": "python",
   "pygments_lexer": "ipython3",
   "version": "3.9.2"
  }
 },
 "nbformat": 4,
 "nbformat_minor": 4
}
