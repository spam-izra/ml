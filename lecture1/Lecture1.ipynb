{
 "cells": [
  {
   "cell_type": "markdown",
   "metadata": {
    "slideshow": {
     "slide_type": "slide"
    }
   },
   "source": [
    "# Введение в Python 3\n",
    "\n",
    "Пензин М.С.\n",
    "\n",
    "penzin.ml.tsu@gmail.com"
   ]
  },
  {
   "cell_type": "markdown",
   "metadata": {
    "slideshow": {
     "slide_type": "slide"
    }
   },
   "source": [
    "## Почему же Python?\n",
    "\n",
    "* прост\n",
    "* бесплатен\n",
    "* низкий порог вхождения\n",
    "* высокая скорость разработки\n",
    "* переносимость программ\n",
    "* огромный выбор готовых библиотек"
   ]
  },
  {
   "cell_type": "markdown",
   "metadata": {
    "slideshow": {
     "slide_type": "slide"
    }
   },
   "source": [
    "## Установка\n",
    "\n",
    "* [Anaconda](https://www.anaconda.com/distribution/)\n",
    "* [python.org](https://www.python.org/)\n",
    "* [Docker](https://www.docker.com/)\n",
    "* [Binder](https://mybinder.org/)"
   ]
  },
  {
   "cell_type": "markdown",
   "metadata": {
    "slideshow": {
     "slide_type": "slide"
    }
   },
   "source": [
    "## Репозиторий\n",
    "\n",
    "\n",
    "Репозиторий с лекциями и заданиями:\n",
    "* https://bitbucket.org/ml_tsu/ml2020\n",
    "\n",
    "Ознакомиться с Git\n",
    "* [Git How To](https://githowto.com/ru)\n"
   ]
  },
  {
   "cell_type": "markdown",
   "metadata": {
    "slideshow": {
     "slide_type": "slide"
    }
   },
   "source": [
    "## Литература\n",
    "\n",
    "* Марк Лутц \"Изучаем Python\""
   ]
  },
  {
   "cell_type": "markdown",
   "metadata": {
    "slideshow": {
     "slide_type": "slide"
    }
   },
   "source": [
    "## Hello World\n",
    "\n",
    "Первая программа"
   ]
  },
  {
   "cell_type": "code",
   "execution_count": null,
   "metadata": {},
   "outputs": [],
   "source": []
  },
  {
   "cell_type": "markdown",
   "metadata": {
    "slideshow": {
     "slide_type": "subslide"
    }
   },
   "source": [
    "## Hello World\n",
    "\n",
    "Создать файл *hello.py*\n",
    "```\n",
    "print('Hello World')\n",
    "```\n",
    "и выполнить команду\n",
    "```\n",
    "python hello.py\n",
    "```"
   ]
  },
  {
   "cell_type": "markdown",
   "metadata": {
    "slideshow": {
     "slide_type": "slide"
    }
   },
   "source": [
    "## Типы объектов\n",
    "\n",
    "* None\n",
    "* числа: 12, 3.14, 3+5j, Decimal, Fraction\n",
    "* логические: True, False\n",
    "* строки: b'a\\x01c', 'spam', \"some text\"\n",
    "* списки: [1, 2, [3, \"four\"], 5]\n",
    "* словари: {\"foo\": \"bar\", \"taste\": \"yum\"}\n",
    "* кортежи: (1, \"spam\", 4)\n",
    "* прочие объекты"
   ]
  },
  {
   "cell_type": "markdown",
   "metadata": {
    "slideshow": {
     "slide_type": "slide"
    }
   },
   "source": [
    "## Переменные\n",
    "\n",
    "Переменные – это ссылки(имя) на объект, создаваемые во время\n",
    "операции присваивания. Переменные не имеют типа. Понятие типа\n",
    "присуще только объектам. В выражениях имя переменной замещается\n",
    "объектом, на который она ссылается. Объекты уничтожаются\n",
    "автоматически."
   ]
  },
  {
   "cell_type": "code",
   "execution_count": null,
   "metadata": {
    "slideshow": {
     "slide_type": "subslide"
    }
   },
   "outputs": [],
   "source": [
    "a = 1; b = a; print(a is b)\n",
    "b = b / 2; print(a is b)\n",
    "b = a; a = 'hi'\n",
    "b = 1.23\n",
    "b = c = a; print(a, b, c, a is c, b is c)\n",
    "a is None"
   ]
  },
  {
   "cell_type": "code",
   "execution_count": null,
   "metadata": {
    "slideshow": {
     "slide_type": "subslide"
    }
   },
   "outputs": [],
   "source": [
    "a = 3\n",
    "print(type(a), a)\n",
    "a = float(a)\n",
    "print(type(a), a)\n",
    "a = str(a)\n",
    "print(type(a), a)\n",
    "a = float(a)\n",
    "print(type(a), a)"
   ]
  },
  {
   "cell_type": "markdown",
   "metadata": {
    "slideshow": {
     "slide_type": "slide"
    }
   },
   "source": [
    "## Модули\n",
    "\n",
    "В простейшем случае, модуль - это отдельный файл с раширением *.py*, в котором содержаться описание функций и объектов."
   ]
  },
  {
   "cell_type": "code",
   "execution_count": null,
   "metadata": {
    "slideshow": {
     "slide_type": "subslide"
    }
   },
   "outputs": [],
   "source": [
    "import math\n",
    "\n",
    "print(math.cos(math.pi / 2), math.sin(math.pi / 2))"
   ]
  },
  {
   "cell_type": "code",
   "execution_count": null,
   "metadata": {
    "slideshow": {
     "slide_type": "subslide"
    }
   },
   "outputs": [],
   "source": [
    "math.cos?"
   ]
  },
  {
   "cell_type": "code",
   "execution_count": null,
   "metadata": {},
   "outputs": [],
   "source": [
    "help(math.cos)"
   ]
  },
  {
   "cell_type": "markdown",
   "metadata": {
    "slideshow": {
     "slide_type": "subslide"
    }
   },
   "source": [
    "## Модули\n",
    "\n",
    "Установка модулей может осуществляться через Anaconda или встроенный менеджер пакетов pip\n",
    "```\n",
    "python -m pip install numpy\n",
    "```"
   ]
  },
  {
   "cell_type": "markdown",
   "metadata": {
    "slideshow": {
     "slide_type": "slide"
    }
   },
   "source": [
    "# Операции стандартные\n",
    "\n",
    "* +, -, \n",
    "* /, //, \\*, \\%, \\*\\*\n",
    "* +=, -=, *=, /="
   ]
  },
  {
   "cell_type": "code",
   "execution_count": null,
   "metadata": {},
   "outputs": [],
   "source": [
    "a = 2; b = 3\n",
    "a**2\n",
    "a += 3\n",
    "a + b, a - b, a * b, a / 3, a // 3\n",
    "a = \"Hi\"; b = \"Ho\"\n",
    "a + b, a * 3"
   ]
  },
  {
   "cell_type": "markdown",
   "metadata": {
    "slideshow": {
     "slide_type": "slide"
    }
   },
   "source": [
    "## Операции сравнения\n",
    "\n",
    "* ==, !=, \n",
    "* <, >, <=, >="
   ]
  },
  {
   "cell_type": "code",
   "execution_count": null,
   "metadata": {},
   "outputs": [],
   "source": [
    "a, b = 2, 3\n",
    "a == b, a != b, a < b"
   ]
  },
  {
   "cell_type": "markdown",
   "metadata": {
    "slideshow": {
     "slide_type": "slide"
    }
   },
   "source": [
    "## Операции логические\n",
    "\n",
    " * and - возвращает первый false объект\n",
    " * or - возвращает первый true объект"
   ]
  },
  {
   "cell_type": "code",
   "execution_count": null,
   "metadata": {},
   "outputs": [],
   "source": [
    "a, b = 2, 0\n",
    "a and b, a or b"
   ]
  },
  {
   "cell_type": "markdown",
   "metadata": {
    "slideshow": {
     "slide_type": "slide"
    }
   },
   "source": [
    "## Коллекции\n",
    "\n",
    "* Списки - это изменяемые коллекции объектов.\n",
    "* Кортежи - это неизменяемые коллекции объектов.\n",
    "* Множества - коллекции уникальных объектов\n",
    "* Словари - коллекции объектов с доступом по ключу"
   ]
  },
  {
   "cell_type": "markdown",
   "metadata": {
    "slideshow": {
     "slide_type": "slide"
    }
   },
   "source": [
    "## Списки и кортежи"
   ]
  },
  {
   "cell_type": "code",
   "execution_count": null,
   "metadata": {
    "slideshow": {
     "slide_type": "-"
    }
   },
   "outputs": [],
   "source": [
    "a = [1, \"hi\"]\n",
    "b = (1, \"hi\")\n",
    "a.append(3)\n",
    "print(a, b, list(b), tuple(a))"
   ]
  },
  {
   "cell_type": "code",
   "execution_count": null,
   "metadata": {
    "scrolled": true,
    "slideshow": {
     "slide_type": "subslide"
    }
   },
   "outputs": [],
   "source": [
    "a = [1, 2, 3]; b = [6, 7]\n",
    "a.append(4); print(a)\n",
    "a.extend(b); print(a)\n",
    "a.insert(4, 5); print(a)\n",
    "print(a.pop(), a)\n",
    "del a[0]; print(a)\n",
    "print(len(a))"
   ]
  },
  {
   "cell_type": "code",
   "execution_count": null,
   "metadata": {
    "slideshow": {
     "slide_type": "subslide"
    }
   },
   "outputs": [],
   "source": [
    "a = [ [1, 2, 3],\n",
    "      [4, 5, 6],\n",
    "      [7, 8, 9] ]\n",
    "a = [2, 3]; b = [1, a, 4]\n",
    "b[1][1] = 6\n",
    "print(a)"
   ]
  },
  {
   "cell_type": "markdown",
   "metadata": {
    "slideshow": {
     "slide_type": "slide"
    }
   },
   "source": [
    "## Срезы"
   ]
  },
  {
   "cell_type": "code",
   "execution_count": null,
   "metadata": {},
   "outputs": [],
   "source": [
    "a = [1, 2, 3, 4, 5, 6, 7, 8, 9, 10]\n",
    "print(a)\n",
    "print(a[1], a[-1], a[1:2], a[6:-1])\n",
    "print(a[:])"
   ]
  },
  {
   "cell_type": "markdown",
   "metadata": {
    "slideshow": {
     "slide_type": "slide"
    }
   },
   "source": [
    "## Словари\n",
    "\n",
    "Словари - это коллекция объектов, доступ к которым осуществляется по\n",
    "ключам (отображение). При этом, ключи хранятся в произвольном порядке.\n",
    "Ключи должны быть уникальными и неизменяемыми объектами."
   ]
  },
  {
   "cell_type": "code",
   "execution_count": null,
   "metadata": {
    "slideshow": {
     "slide_type": "subslide"
    }
   },
   "outputs": [],
   "source": [
    "a = {\"foo\": \"bar\"}\n",
    "print(a[\"foo\"])\n",
    "b = dict(foo=\"1\", bar=2)\n",
    "print(b)\n",
    "a[\"spam\"] = \"eggs\"\n",
    "print(a)"
   ]
  },
  {
   "cell_type": "markdown",
   "metadata": {
    "slideshow": {
     "slide_type": "slide"
    }
   },
   "source": [
    "## Строки\n",
    "\n",
    "Строки являются неизменяемыми объектами и частным случаем\n",
    "последовательностей.\n",
    "\n",
    "Строки бывают двух типов:\n",
    "* unicode-строка\n",
    "* byte-строка"
   ]
  },
  {
   "cell_type": "markdown",
   "metadata": {
    "slideshow": {
     "slide_type": "subslide"
    }
   },
   "source": [
    "# Строки\n",
    "\n",
    "* rstrip - удаление конечных пробельных символов\n",
    "* find - поиск положения подстроки\n",
    "* replace - замена подстроки\n",
    "* split - разбить строки на подстроки\n",
    "* lower и upper - изменение регистра строки"
   ]
  },
  {
   "cell_type": "markdown",
   "metadata": {
    "slideshow": {
     "slide_type": "subslide"
    }
   },
   "source": [
    "# Строки\n",
    "\n",
    "Форматирование строк\n",
    "* С-подобный\n",
    "* format"
   ]
  },
  {
   "cell_type": "code",
   "execution_count": null,
   "metadata": {
    "slideshow": {
     "slide_type": "subslide"
    }
   },
   "outputs": [],
   "source": [
    "a = \"Hellow; World\"\n",
    "a, b = a.split(\";\")\n",
    "print(a, b, a + b, ' | '.join([a,b]), a[1], a[1:3])\n",
    "print(\"%s %s\" % (a, b))\n",
    "print(\"{} {second}\".format(a, second=b))\n",
    "print(f\"{a} {b}\")"
   ]
  },
  {
   "cell_type": "markdown",
   "metadata": {
    "slideshow": {
     "slide_type": "slide"
    }
   },
   "source": [
    "## Файлы\n",
    "\n",
    "Объект отвечающий за взаимодействием с файлом можно получить командой:\n",
    "```python\n",
    "f = open('test.txt', 'r')\n",
    "```"
   ]
  },
  {
   "cell_type": "markdown",
   "metadata": {
    "slideshow": {
     "slide_type": "subslide"
    }
   },
   "source": [
    "Режимы:\n",
    "* \"w\" - для записи (создает заново или затирает)\n",
    "* \"r\" - только для чтения\n",
    "* \"a\" - открыть для добавления\n",
    "* \"b\" - бинарный режим"
   ]
  },
  {
   "cell_type": "code",
   "execution_count": null,
   "metadata": {
    "slideshow": {
     "slide_type": "subslide"
    }
   },
   "outputs": [],
   "source": [
    "f = open(\"../data/mlbootcamp5_train.csv\")\n",
    "print(f.readline())\n",
    "f = open(\"test.txt\", \"w\")\n",
    "print(\"Hello World\", file=f)\n",
    "f.close()"
   ]
  },
  {
   "cell_type": "code",
   "execution_count": null,
   "metadata": {},
   "outputs": [],
   "source": [
    "!cat test.txt"
   ]
  },
  {
   "cell_type": "markdown",
   "metadata": {
    "slideshow": {
     "slide_type": "slide"
    }
   },
   "source": [
    "## If\n",
    "\n",
    "```\n",
    "if <condition>:\n",
    "    <code>\n",
    "elif <condition>:\n",
    "    <code>\n",
    "else:\n",
    "    <code>\n",
    "    \n",
    "v = value1 if <условие> else value2\n",
    "```"
   ]
  },
  {
   "cell_type": "code",
   "execution_count": null,
   "metadata": {
    "slideshow": {
     "slide_type": "subslide"
    }
   },
   "outputs": [],
   "source": [
    "number = int(input())\n",
    "if number % 3 == 0 and number % 5 == 0:\n",
    "    print(\"Fizz Buzz\")\n",
    "elif number % 3 == 0:\n",
    "    print(\"Fizz\")\n",
    "elif number % 5 == 0:\n",
    "    print(\"Buzz\")\n",
    "else:\n",
    "    print(str(number))"
   ]
  },
  {
   "cell_type": "markdown",
   "metadata": {
    "slideshow": {
     "slide_type": "slide"
    }
   },
   "source": [
    "# For\n",
    "\n",
    "Цикл for осуществляет обход по всем элементам итерируемого объекта\n",
    "```\n",
    "for element in <итерируемый объект>:\n",
    "    <тело цикла>\n",
    "    if <условие1>: break\n",
    "    if <условие2>: continue\n",
    "else:\n",
    "    <код> #если не был использован break\n",
    "```"
   ]
  },
  {
   "cell_type": "code",
   "execution_count": null,
   "metadata": {
    "slideshow": {
     "slide_type": "subslide"
    }
   },
   "outputs": [],
   "source": [
    "for i in [1, 2, 3, 4]:\n",
    "    pass\n",
    "for i in range(0, 10, 2):\n",
    "    pass\n",
    "for key in {\"a\": 1, \"b\": 2, \"c\": 3}:\n",
    "    pass\n",
    "for a, *b in (\"some\", \"text\"):\n",
    "    pass\n",
    "for *a, b in (\"some\", \"text\"):\n",
    "    pass\n",
    "for line in open(\"test.txt\"):\n",
    "    pass"
   ]
  },
  {
   "cell_type": "markdown",
   "metadata": {
    "slideshow": {
     "slide_type": "slide"
    }
   },
   "source": [
    "# While\n",
    "\n",
    "Цикл while выполняется до тех пор, пока условие возвращает True\n",
    "```python\n",
    "while <условие>:\n",
    "    <тело цикла>\n",
    "    if <условие1>: break\n",
    "    if <условие2>: continue\n",
    "else:\n",
    "    <код> #выполняется, если не был использован break\n",
    "```"
   ]
  },
  {
   "cell_type": "markdown",
   "metadata": {
    "slideshow": {
     "slide_type": "slide"
    }
   },
   "source": [
    "# Простейшие генераторы\n",
    "Генераторы - это довольно простой способ инициализации\n",
    "коллекций(списков, словарей и множеств)"
   ]
  },
  {
   "cell_type": "code",
   "execution_count": null,
   "metadata": {},
   "outputs": [],
   "source": [
    "l = [x for x in range(10) if x % 2]\n",
    "print(l)\n",
    "d = {x: ord(x) for x in \"spaam\"}\n",
    "print(d)\n",
    "s = {x for x in \"spaam\"}\n",
    "print(s)"
   ]
  },
  {
   "cell_type": "markdown",
   "metadata": {
    "slideshow": {
     "slide_type": "slide"
    }
   },
   "source": [
    "# Функции\n",
    "\n",
    "Функции - это средства, позволяющие группировать набор инструкций для повторного применения. Функции также являются объектами! **Аргументы функции копируются по ссылке.**\n",
    "```python\n",
    "def <название функции>(arg1, ..., argN):\n",
    "    <код>\n",
    "    return [<значение>]\n",
    "```"
   ]
  },
  {
   "cell_type": "code",
   "execution_count": null,
   "metadata": {
    "slideshow": {
     "slide_type": "subslide"
    }
   },
   "outputs": [],
   "source": [
    "def times(a, b):\n",
    "    return a*b\n",
    "\n",
    "print(times(2, 6))\n",
    "print(times(\"s\", 2))"
   ]
  },
  {
   "cell_type": "code",
   "execution_count": null,
   "metadata": {
    "slideshow": {
     "slide_type": "subslide"
    }
   },
   "outputs": [],
   "source": [
    "def f():\n",
    "    print(\"I'm here\")\n",
    "\n",
    "# Функция - это объект\n",
    "a = f\n",
    "a()\n",
    "f = \"there is no spoon\"\n",
    "#f() #error"
   ]
  },
  {
   "cell_type": "code",
   "execution_count": null,
   "metadata": {
    "slideshow": {
     "slide_type": "subslide"
    }
   },
   "outputs": [],
   "source": [
    "X = 25\n",
    "\n",
    "def f():\n",
    "    #print(X)\n",
    "    X = 32\n",
    "    \n",
    "f(); print(X)"
   ]
  },
  {
   "cell_type": "code",
   "execution_count": null,
   "metadata": {
    "slideshow": {
     "slide_type": "subslide"
    }
   },
   "outputs": [],
   "source": [
    "X = 25\n",
    "def f(v):\n",
    "    v = 23\n",
    "    \n",
    "f(X); print(X)"
   ]
  },
  {
   "cell_type": "code",
   "execution_count": null,
   "metadata": {
    "slideshow": {
     "slide_type": "subslide"
    }
   },
   "outputs": [],
   "source": [
    "X = 25\n",
    "def f():\n",
    "    global X\n",
    "    X = 23\n",
    "    \n",
    "f(); print(X)"
   ]
  },
  {
   "cell_type": "markdown",
   "metadata": {
    "slideshow": {
     "slide_type": "slide"
    }
   },
   "source": [
    "## Аргументы функции\n",
    "\n",
    "```python\n",
    "def func1(a, b=1): pass\n",
    "def func2(*args): pass\n",
    "def func3(**kargs): pass\n",
    "\n",
    "func1(1, b=2)\n",
    "func2(1, 2)\n",
    "func3(a=1, a=3)\n",
    "```"
   ]
  },
  {
   "cell_type": "markdown",
   "metadata": {
    "slideshow": {
     "slide_type": "slide"
    }
   },
   "source": [
    "# Замыкание"
   ]
  },
  {
   "cell_type": "code",
   "execution_count": null,
   "metadata": {},
   "outputs": [],
   "source": [
    "def counter(start=0):\n",
    "    n = start\n",
    "    def tick():\n",
    "        nonlocal n\n",
    "        n += 1\n",
    "        return n    \n",
    "    return tick\n",
    "\n",
    "c1 = counter()\n",
    "c2 = counter()\n",
    "print(c1(), c2(), c1(), c2())"
   ]
  },
  {
   "cell_type": "markdown",
   "metadata": {
    "slideshow": {
     "slide_type": "slide"
    }
   },
   "source": [
    "## Лямбда-функции\n",
    "\n",
    "Лямбда-функции - это короткое объявление функции на \"месте\"\n",
    "\n",
    "```python\n",
    "f = lambda x: x**2\n",
    "```"
   ]
  },
  {
   "cell_type": "code",
   "execution_count": null,
   "metadata": {
    "slideshow": {
     "slide_type": "subslide"
    }
   },
   "outputs": [],
   "source": [
    "a = [1, 2, 3, 4]\n",
    "a.sort(key=lambda x: 1/x)\n",
    "print(a)\n",
    "print(list(sorted(a, key=lambda x: x)))\n",
    "print(a)"
   ]
  },
  {
   "cell_type": "markdown",
   "metadata": {
    "slideshow": {
     "slide_type": "slide"
    }
   },
   "source": [
    "## Исключения\n",
    "\n",
    "```python\n",
    "try:\n",
    "    <code>\n",
    "except Exception1:\n",
    "    pass\n",
    "except Exception2:\n",
    "    pass\n",
    "except:\n",
    "    pass\n",
    "else:\n",
    "    pass\n",
    "finally: \n",
    "    pass\n",
    "```"
   ]
  },
  {
   "cell_type": "code",
   "execution_count": null,
   "metadata": {
    "slideshow": {
     "slide_type": "subslide"
    }
   },
   "outputs": [],
   "source": [
    "a = 20 / 0"
   ]
  },
  {
   "cell_type": "code",
   "execution_count": null,
   "metadata": {
    "slideshow": {
     "slide_type": "subslide"
    }
   },
   "outputs": [],
   "source": [
    "try:\n",
    "    a = 20 / 0\n",
    "except ZeroDivisionError as e:\n",
    "    print(e)"
   ]
  },
  {
   "cell_type": "markdown",
   "metadata": {
    "slideshow": {
     "slide_type": "slide"
    }
   },
   "source": [
    "## Что изучать дальше\n",
    "\n",
    "* классы, ООП в Python\n",
    "* создание собственных модулей\n",
    "* стандартная библиотека Python'а\n",
    "* декораторы\n",
    "* и многое другое"
   ]
  },
  {
   "cell_type": "code",
   "execution_count": null,
   "metadata": {},
   "outputs": [],
   "source": []
  }
 ],
 "metadata": {
  "celltoolbar": "Slideshow",
  "kernelspec": {
   "display_name": "Python 3",
   "language": "python",
   "name": "python3"
  },
  "language_info": {
   "codemirror_mode": {
    "name": "ipython",
    "version": 3
   },
   "file_extension": ".py",
   "mimetype": "text/x-python",
   "name": "python",
   "nbconvert_exporter": "python",
   "pygments_lexer": "ipython3",
   "version": "3.9.10"
  }
 },
 "nbformat": 4,
 "nbformat_minor": 4
}
