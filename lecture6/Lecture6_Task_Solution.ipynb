{
 "cells": [
  {
   "cell_type": "markdown",
   "metadata": {},
   "source": [
    "# Задачи к Лекции 6\n",
    "\n",
    "Дан файл \"Anuran_Calls_(MFCCs).zip\", в котором содержится обработка звуков издаваемых различными видами лягушек. В качестве признаков выступают мел-кепстральные коэффициенты __[MFCC](https://en.wikipedia.org/wiki/Mel-frequency_cepstrum)__"
   ]
  },
  {
   "cell_type": "markdown",
   "metadata": {},
   "source": [
    "**Чтение данных**"
   ]
  },
  {
   "cell_type": "code",
   "execution_count": 1,
   "metadata": {},
   "outputs": [
    {
     "data": {
      "text/html": [
       "<div>\n",
       "<style scoped>\n",
       "    .dataframe tbody tr th:only-of-type {\n",
       "        vertical-align: middle;\n",
       "    }\n",
       "\n",
       "    .dataframe tbody tr th {\n",
       "        vertical-align: top;\n",
       "    }\n",
       "\n",
       "    .dataframe thead th {\n",
       "        text-align: right;\n",
       "    }\n",
       "</style>\n",
       "<table border=\"1\" class=\"dataframe\">\n",
       "  <thead>\n",
       "    <tr style=\"text-align: right;\">\n",
       "      <th></th>\n",
       "      <th>MFCCs_ 1</th>\n",
       "      <th>MFCCs_ 2</th>\n",
       "      <th>MFCCs_ 3</th>\n",
       "      <th>MFCCs_ 4</th>\n",
       "      <th>MFCCs_ 5</th>\n",
       "      <th>MFCCs_ 6</th>\n",
       "      <th>MFCCs_ 7</th>\n",
       "      <th>MFCCs_ 8</th>\n",
       "      <th>MFCCs_ 9</th>\n",
       "      <th>MFCCs_10</th>\n",
       "      <th>...</th>\n",
       "      <th>MFCCs_17</th>\n",
       "      <th>MFCCs_18</th>\n",
       "      <th>MFCCs_19</th>\n",
       "      <th>MFCCs_20</th>\n",
       "      <th>MFCCs_21</th>\n",
       "      <th>MFCCs_22</th>\n",
       "      <th>Family</th>\n",
       "      <th>Genus</th>\n",
       "      <th>Species</th>\n",
       "      <th>RecordID</th>\n",
       "    </tr>\n",
       "  </thead>\n",
       "  <tbody>\n",
       "    <tr>\n",
       "      <th>0</th>\n",
       "      <td>1.0</td>\n",
       "      <td>0.152936</td>\n",
       "      <td>-0.105586</td>\n",
       "      <td>0.200722</td>\n",
       "      <td>0.317201</td>\n",
       "      <td>0.260764</td>\n",
       "      <td>0.100945</td>\n",
       "      <td>-0.150063</td>\n",
       "      <td>-0.171128</td>\n",
       "      <td>0.124676</td>\n",
       "      <td>...</td>\n",
       "      <td>-0.108351</td>\n",
       "      <td>-0.077623</td>\n",
       "      <td>-0.009568</td>\n",
       "      <td>0.057684</td>\n",
       "      <td>0.118680</td>\n",
       "      <td>0.014038</td>\n",
       "      <td>Leptodactylidae</td>\n",
       "      <td>Adenomera</td>\n",
       "      <td>AdenomeraAndre</td>\n",
       "      <td>1</td>\n",
       "    </tr>\n",
       "    <tr>\n",
       "      <th>1</th>\n",
       "      <td>1.0</td>\n",
       "      <td>0.171534</td>\n",
       "      <td>-0.098975</td>\n",
       "      <td>0.268425</td>\n",
       "      <td>0.338672</td>\n",
       "      <td>0.268353</td>\n",
       "      <td>0.060835</td>\n",
       "      <td>-0.222475</td>\n",
       "      <td>-0.207693</td>\n",
       "      <td>0.170883</td>\n",
       "      <td>...</td>\n",
       "      <td>-0.090974</td>\n",
       "      <td>-0.056510</td>\n",
       "      <td>-0.035303</td>\n",
       "      <td>0.020140</td>\n",
       "      <td>0.082263</td>\n",
       "      <td>0.029056</td>\n",
       "      <td>Leptodactylidae</td>\n",
       "      <td>Adenomera</td>\n",
       "      <td>AdenomeraAndre</td>\n",
       "      <td>1</td>\n",
       "    </tr>\n",
       "    <tr>\n",
       "      <th>2</th>\n",
       "      <td>1.0</td>\n",
       "      <td>0.152317</td>\n",
       "      <td>-0.082973</td>\n",
       "      <td>0.287128</td>\n",
       "      <td>0.276014</td>\n",
       "      <td>0.189867</td>\n",
       "      <td>0.008714</td>\n",
       "      <td>-0.242234</td>\n",
       "      <td>-0.219153</td>\n",
       "      <td>0.232538</td>\n",
       "      <td>...</td>\n",
       "      <td>-0.050691</td>\n",
       "      <td>-0.023590</td>\n",
       "      <td>-0.066722</td>\n",
       "      <td>-0.025083</td>\n",
       "      <td>0.099108</td>\n",
       "      <td>0.077162</td>\n",
       "      <td>Leptodactylidae</td>\n",
       "      <td>Adenomera</td>\n",
       "      <td>AdenomeraAndre</td>\n",
       "      <td>1</td>\n",
       "    </tr>\n",
       "    <tr>\n",
       "      <th>3</th>\n",
       "      <td>1.0</td>\n",
       "      <td>0.224392</td>\n",
       "      <td>0.118985</td>\n",
       "      <td>0.329432</td>\n",
       "      <td>0.372088</td>\n",
       "      <td>0.361005</td>\n",
       "      <td>0.015501</td>\n",
       "      <td>-0.194347</td>\n",
       "      <td>-0.098181</td>\n",
       "      <td>0.270375</td>\n",
       "      <td>...</td>\n",
       "      <td>-0.136009</td>\n",
       "      <td>-0.177037</td>\n",
       "      <td>-0.130498</td>\n",
       "      <td>-0.054766</td>\n",
       "      <td>-0.018691</td>\n",
       "      <td>0.023954</td>\n",
       "      <td>Leptodactylidae</td>\n",
       "      <td>Adenomera</td>\n",
       "      <td>AdenomeraAndre</td>\n",
       "      <td>1</td>\n",
       "    </tr>\n",
       "    <tr>\n",
       "      <th>4</th>\n",
       "      <td>1.0</td>\n",
       "      <td>0.087817</td>\n",
       "      <td>-0.068345</td>\n",
       "      <td>0.306967</td>\n",
       "      <td>0.330923</td>\n",
       "      <td>0.249144</td>\n",
       "      <td>0.006884</td>\n",
       "      <td>-0.265423</td>\n",
       "      <td>-0.172700</td>\n",
       "      <td>0.266434</td>\n",
       "      <td>...</td>\n",
       "      <td>-0.048885</td>\n",
       "      <td>-0.053074</td>\n",
       "      <td>-0.088550</td>\n",
       "      <td>-0.031346</td>\n",
       "      <td>0.108610</td>\n",
       "      <td>0.079244</td>\n",
       "      <td>Leptodactylidae</td>\n",
       "      <td>Adenomera</td>\n",
       "      <td>AdenomeraAndre</td>\n",
       "      <td>1</td>\n",
       "    </tr>\n",
       "  </tbody>\n",
       "</table>\n",
       "<p>5 rows × 26 columns</p>\n",
       "</div>"
      ],
      "text/plain": [
       "   MFCCs_ 1  MFCCs_ 2  MFCCs_ 3  MFCCs_ 4  MFCCs_ 5  MFCCs_ 6  MFCCs_ 7  \\\n",
       "0       1.0  0.152936 -0.105586  0.200722  0.317201  0.260764  0.100945   \n",
       "1       1.0  0.171534 -0.098975  0.268425  0.338672  0.268353  0.060835   \n",
       "2       1.0  0.152317 -0.082973  0.287128  0.276014  0.189867  0.008714   \n",
       "3       1.0  0.224392  0.118985  0.329432  0.372088  0.361005  0.015501   \n",
       "4       1.0  0.087817 -0.068345  0.306967  0.330923  0.249144  0.006884   \n",
       "\n",
       "   MFCCs_ 8  MFCCs_ 9  MFCCs_10  ...  MFCCs_17  MFCCs_18  MFCCs_19  MFCCs_20  \\\n",
       "0 -0.150063 -0.171128  0.124676  ... -0.108351 -0.077623 -0.009568  0.057684   \n",
       "1 -0.222475 -0.207693  0.170883  ... -0.090974 -0.056510 -0.035303  0.020140   \n",
       "2 -0.242234 -0.219153  0.232538  ... -0.050691 -0.023590 -0.066722 -0.025083   \n",
       "3 -0.194347 -0.098181  0.270375  ... -0.136009 -0.177037 -0.130498 -0.054766   \n",
       "4 -0.265423 -0.172700  0.266434  ... -0.048885 -0.053074 -0.088550 -0.031346   \n",
       "\n",
       "   MFCCs_21  MFCCs_22           Family      Genus         Species  RecordID  \n",
       "0  0.118680  0.014038  Leptodactylidae  Adenomera  AdenomeraAndre         1  \n",
       "1  0.082263  0.029056  Leptodactylidae  Adenomera  AdenomeraAndre         1  \n",
       "2  0.099108  0.077162  Leptodactylidae  Adenomera  AdenomeraAndre         1  \n",
       "3 -0.018691  0.023954  Leptodactylidae  Adenomera  AdenomeraAndre         1  \n",
       "4  0.108610  0.079244  Leptodactylidae  Adenomera  AdenomeraAndre         1  \n",
       "\n",
       "[5 rows x 26 columns]"
      ]
     },
     "execution_count": 1,
     "metadata": {},
     "output_type": "execute_result"
    }
   ],
   "source": [
    "%matplotlib inline\n",
    "import zipfile\n",
    "import numpy as np\n",
    "import pandas as pd\n",
    "import seaborn as sns\n",
    "import matplotlib.pyplot as plt\n",
    "\n",
    "z = zipfile.ZipFile(\"../data/Anuran_Calls_(MFCCs).zip\")\n",
    "df = pd.read_csv(z.open(\"Frogs_MFCCs.csv\"))\n",
    "\n",
    "df.head()"
   ]
  },
  {
   "cell_type": "markdown",
   "metadata": {},
   "source": [
    "**Получение различной информации**"
   ]
  },
  {
   "cell_type": "code",
   "execution_count": 2,
   "metadata": {},
   "outputs": [
    {
     "data": {
      "text/plain": [
       "(7195, 26)"
      ]
     },
     "execution_count": 2,
     "metadata": {},
     "output_type": "execute_result"
    }
   ],
   "source": [
    "df.shape"
   ]
  },
  {
   "cell_type": "code",
   "execution_count": 3,
   "metadata": {},
   "outputs": [
    {
     "name": "stdout",
     "output_type": "stream",
     "text": [
      "<class 'pandas.core.frame.DataFrame'>\n",
      "RangeIndex: 7195 entries, 0 to 7194\n",
      "Data columns (total 26 columns):\n",
      " #   Column    Non-Null Count  Dtype  \n",
      "---  ------    --------------  -----  \n",
      " 0   MFCCs_ 1  7195 non-null   float64\n",
      " 1   MFCCs_ 2  7195 non-null   float64\n",
      " 2   MFCCs_ 3  7195 non-null   float64\n",
      " 3   MFCCs_ 4  7195 non-null   float64\n",
      " 4   MFCCs_ 5  7195 non-null   float64\n",
      " 5   MFCCs_ 6  7195 non-null   float64\n",
      " 6   MFCCs_ 7  7195 non-null   float64\n",
      " 7   MFCCs_ 8  7195 non-null   float64\n",
      " 8   MFCCs_ 9  7195 non-null   float64\n",
      " 9   MFCCs_10  7195 non-null   float64\n",
      " 10  MFCCs_11  7195 non-null   float64\n",
      " 11  MFCCs_12  7195 non-null   float64\n",
      " 12  MFCCs_13  7195 non-null   float64\n",
      " 13  MFCCs_14  7195 non-null   float64\n",
      " 14  MFCCs_15  7195 non-null   float64\n",
      " 15  MFCCs_16  7195 non-null   float64\n",
      " 16  MFCCs_17  7195 non-null   float64\n",
      " 17  MFCCs_18  7195 non-null   float64\n",
      " 18  MFCCs_19  7195 non-null   float64\n",
      " 19  MFCCs_20  7195 non-null   float64\n",
      " 20  MFCCs_21  7195 non-null   float64\n",
      " 21  MFCCs_22  7195 non-null   float64\n",
      " 22  Family    7195 non-null   object \n",
      " 23  Genus     7195 non-null   object \n",
      " 24  Species   7195 non-null   object \n",
      " 25  RecordID  7195 non-null   int64  \n",
      "dtypes: float64(22), int64(1), object(3)\n",
      "memory usage: 1.4+ MB\n"
     ]
    }
   ],
   "source": [
    "df.info()"
   ]
  },
  {
   "cell_type": "code",
   "execution_count": 4,
   "metadata": {},
   "outputs": [
    {
     "data": {
      "text/html": [
       "<div>\n",
       "<style scoped>\n",
       "    .dataframe tbody tr th:only-of-type {\n",
       "        vertical-align: middle;\n",
       "    }\n",
       "\n",
       "    .dataframe tbody tr th {\n",
       "        vertical-align: top;\n",
       "    }\n",
       "\n",
       "    .dataframe thead th {\n",
       "        text-align: right;\n",
       "    }\n",
       "</style>\n",
       "<table border=\"1\" class=\"dataframe\">\n",
       "  <thead>\n",
       "    <tr style=\"text-align: right;\">\n",
       "      <th></th>\n",
       "      <th>MFCCs_ 1</th>\n",
       "      <th>MFCCs_ 2</th>\n",
       "      <th>MFCCs_ 3</th>\n",
       "      <th>MFCCs_ 4</th>\n",
       "      <th>MFCCs_ 5</th>\n",
       "      <th>MFCCs_ 6</th>\n",
       "      <th>MFCCs_ 7</th>\n",
       "      <th>MFCCs_ 8</th>\n",
       "      <th>MFCCs_ 9</th>\n",
       "      <th>MFCCs_10</th>\n",
       "      <th>...</th>\n",
       "      <th>MFCCs_14</th>\n",
       "      <th>MFCCs_15</th>\n",
       "      <th>MFCCs_16</th>\n",
       "      <th>MFCCs_17</th>\n",
       "      <th>MFCCs_18</th>\n",
       "      <th>MFCCs_19</th>\n",
       "      <th>MFCCs_20</th>\n",
       "      <th>MFCCs_21</th>\n",
       "      <th>MFCCs_22</th>\n",
       "      <th>RecordID</th>\n",
       "    </tr>\n",
       "  </thead>\n",
       "  <tbody>\n",
       "    <tr>\n",
       "      <th>count</th>\n",
       "      <td>7195.000000</td>\n",
       "      <td>7195.000000</td>\n",
       "      <td>7195.000000</td>\n",
       "      <td>7195.000000</td>\n",
       "      <td>7195.000000</td>\n",
       "      <td>7195.000000</td>\n",
       "      <td>7195.000000</td>\n",
       "      <td>7195.000000</td>\n",
       "      <td>7195.000000</td>\n",
       "      <td>7195.000000</td>\n",
       "      <td>...</td>\n",
       "      <td>7195.000000</td>\n",
       "      <td>7195.000000</td>\n",
       "      <td>7195.000000</td>\n",
       "      <td>7195.000000</td>\n",
       "      <td>7195.000000</td>\n",
       "      <td>7195.000000</td>\n",
       "      <td>7195.000000</td>\n",
       "      <td>7195.000000</td>\n",
       "      <td>7195.000000</td>\n",
       "      <td>7195.000000</td>\n",
       "    </tr>\n",
       "    <tr>\n",
       "      <th>mean</th>\n",
       "      <td>0.989885</td>\n",
       "      <td>0.323584</td>\n",
       "      <td>0.311224</td>\n",
       "      <td>0.445997</td>\n",
       "      <td>0.127046</td>\n",
       "      <td>0.097939</td>\n",
       "      <td>-0.001397</td>\n",
       "      <td>-0.000370</td>\n",
       "      <td>0.128213</td>\n",
       "      <td>0.055998</td>\n",
       "      <td>...</td>\n",
       "      <td>-0.039244</td>\n",
       "      <td>-0.101748</td>\n",
       "      <td>0.042062</td>\n",
       "      <td>0.088680</td>\n",
       "      <td>0.007755</td>\n",
       "      <td>-0.049474</td>\n",
       "      <td>-0.053244</td>\n",
       "      <td>0.037313</td>\n",
       "      <td>0.087567</td>\n",
       "      <td>25.220014</td>\n",
       "    </tr>\n",
       "    <tr>\n",
       "      <th>std</th>\n",
       "      <td>0.069016</td>\n",
       "      <td>0.218653</td>\n",
       "      <td>0.263527</td>\n",
       "      <td>0.160328</td>\n",
       "      <td>0.162722</td>\n",
       "      <td>0.120412</td>\n",
       "      <td>0.171404</td>\n",
       "      <td>0.116302</td>\n",
       "      <td>0.179008</td>\n",
       "      <td>0.127099</td>\n",
       "      <td>...</td>\n",
       "      <td>0.152515</td>\n",
       "      <td>0.187618</td>\n",
       "      <td>0.119915</td>\n",
       "      <td>0.138055</td>\n",
       "      <td>0.084733</td>\n",
       "      <td>0.082546</td>\n",
       "      <td>0.094181</td>\n",
       "      <td>0.079470</td>\n",
       "      <td>0.123442</td>\n",
       "      <td>13.214399</td>\n",
       "    </tr>\n",
       "    <tr>\n",
       "      <th>min</th>\n",
       "      <td>-0.251179</td>\n",
       "      <td>-0.673025</td>\n",
       "      <td>-0.436028</td>\n",
       "      <td>-0.472676</td>\n",
       "      <td>-0.636012</td>\n",
       "      <td>-0.410417</td>\n",
       "      <td>-0.538982</td>\n",
       "      <td>-0.576506</td>\n",
       "      <td>-0.587313</td>\n",
       "      <td>-0.952266</td>\n",
       "      <td>...</td>\n",
       "      <td>-0.590380</td>\n",
       "      <td>-0.717156</td>\n",
       "      <td>-0.498675</td>\n",
       "      <td>-0.421480</td>\n",
       "      <td>-0.759322</td>\n",
       "      <td>-0.680745</td>\n",
       "      <td>-0.361649</td>\n",
       "      <td>-0.430812</td>\n",
       "      <td>-0.379304</td>\n",
       "      <td>1.000000</td>\n",
       "    </tr>\n",
       "    <tr>\n",
       "      <th>25%</th>\n",
       "      <td>1.000000</td>\n",
       "      <td>0.165945</td>\n",
       "      <td>0.138445</td>\n",
       "      <td>0.336737</td>\n",
       "      <td>0.051717</td>\n",
       "      <td>0.012581</td>\n",
       "      <td>-0.125737</td>\n",
       "      <td>-0.063109</td>\n",
       "      <td>0.004648</td>\n",
       "      <td>-0.001132</td>\n",
       "      <td>...</td>\n",
       "      <td>-0.132980</td>\n",
       "      <td>-0.255929</td>\n",
       "      <td>-0.019549</td>\n",
       "      <td>-0.001764</td>\n",
       "      <td>-0.042122</td>\n",
       "      <td>-0.106079</td>\n",
       "      <td>-0.120971</td>\n",
       "      <td>-0.017620</td>\n",
       "      <td>0.000533</td>\n",
       "      <td>15.000000</td>\n",
       "    </tr>\n",
       "    <tr>\n",
       "      <th>50%</th>\n",
       "      <td>1.000000</td>\n",
       "      <td>0.302184</td>\n",
       "      <td>0.274626</td>\n",
       "      <td>0.481463</td>\n",
       "      <td>0.161361</td>\n",
       "      <td>0.072079</td>\n",
       "      <td>-0.052630</td>\n",
       "      <td>0.013265</td>\n",
       "      <td>0.189317</td>\n",
       "      <td>0.063478</td>\n",
       "      <td>...</td>\n",
       "      <td>-0.050715</td>\n",
       "      <td>-0.143259</td>\n",
       "      <td>0.041081</td>\n",
       "      <td>0.112769</td>\n",
       "      <td>0.011820</td>\n",
       "      <td>-0.052626</td>\n",
       "      <td>-0.055180</td>\n",
       "      <td>0.031274</td>\n",
       "      <td>0.105373</td>\n",
       "      <td>22.000000</td>\n",
       "    </tr>\n",
       "    <tr>\n",
       "      <th>75%</th>\n",
       "      <td>1.000000</td>\n",
       "      <td>0.466566</td>\n",
       "      <td>0.430695</td>\n",
       "      <td>0.559861</td>\n",
       "      <td>0.222592</td>\n",
       "      <td>0.175957</td>\n",
       "      <td>0.085580</td>\n",
       "      <td>0.075108</td>\n",
       "      <td>0.265395</td>\n",
       "      <td>0.117725</td>\n",
       "      <td>...</td>\n",
       "      <td>0.039157</td>\n",
       "      <td>0.017348</td>\n",
       "      <td>0.107046</td>\n",
       "      <td>0.201932</td>\n",
       "      <td>0.061889</td>\n",
       "      <td>0.006321</td>\n",
       "      <td>0.001342</td>\n",
       "      <td>0.089619</td>\n",
       "      <td>0.194819</td>\n",
       "      <td>37.000000</td>\n",
       "    </tr>\n",
       "    <tr>\n",
       "      <th>max</th>\n",
       "      <td>1.000000</td>\n",
       "      <td>1.000000</td>\n",
       "      <td>1.000000</td>\n",
       "      <td>1.000000</td>\n",
       "      <td>0.752246</td>\n",
       "      <td>0.964240</td>\n",
       "      <td>1.000000</td>\n",
       "      <td>0.551762</td>\n",
       "      <td>0.738033</td>\n",
       "      <td>0.522768</td>\n",
       "      <td>...</td>\n",
       "      <td>0.575749</td>\n",
       "      <td>0.668924</td>\n",
       "      <td>0.670700</td>\n",
       "      <td>0.681157</td>\n",
       "      <td>0.614064</td>\n",
       "      <td>0.574209</td>\n",
       "      <td>0.467831</td>\n",
       "      <td>0.389797</td>\n",
       "      <td>0.432207</td>\n",
       "      <td>60.000000</td>\n",
       "    </tr>\n",
       "  </tbody>\n",
       "</table>\n",
       "<p>8 rows × 23 columns</p>\n",
       "</div>"
      ],
      "text/plain": [
       "          MFCCs_ 1     MFCCs_ 2     MFCCs_ 3     MFCCs_ 4     MFCCs_ 5  \\\n",
       "count  7195.000000  7195.000000  7195.000000  7195.000000  7195.000000   \n",
       "mean      0.989885     0.323584     0.311224     0.445997     0.127046   \n",
       "std       0.069016     0.218653     0.263527     0.160328     0.162722   \n",
       "min      -0.251179    -0.673025    -0.436028    -0.472676    -0.636012   \n",
       "25%       1.000000     0.165945     0.138445     0.336737     0.051717   \n",
       "50%       1.000000     0.302184     0.274626     0.481463     0.161361   \n",
       "75%       1.000000     0.466566     0.430695     0.559861     0.222592   \n",
       "max       1.000000     1.000000     1.000000     1.000000     0.752246   \n",
       "\n",
       "          MFCCs_ 6     MFCCs_ 7     MFCCs_ 8     MFCCs_ 9     MFCCs_10  ...  \\\n",
       "count  7195.000000  7195.000000  7195.000000  7195.000000  7195.000000  ...   \n",
       "mean      0.097939    -0.001397    -0.000370     0.128213     0.055998  ...   \n",
       "std       0.120412     0.171404     0.116302     0.179008     0.127099  ...   \n",
       "min      -0.410417    -0.538982    -0.576506    -0.587313    -0.952266  ...   \n",
       "25%       0.012581    -0.125737    -0.063109     0.004648    -0.001132  ...   \n",
       "50%       0.072079    -0.052630     0.013265     0.189317     0.063478  ...   \n",
       "75%       0.175957     0.085580     0.075108     0.265395     0.117725  ...   \n",
       "max       0.964240     1.000000     0.551762     0.738033     0.522768  ...   \n",
       "\n",
       "          MFCCs_14     MFCCs_15     MFCCs_16     MFCCs_17     MFCCs_18  \\\n",
       "count  7195.000000  7195.000000  7195.000000  7195.000000  7195.000000   \n",
       "mean     -0.039244    -0.101748     0.042062     0.088680     0.007755   \n",
       "std       0.152515     0.187618     0.119915     0.138055     0.084733   \n",
       "min      -0.590380    -0.717156    -0.498675    -0.421480    -0.759322   \n",
       "25%      -0.132980    -0.255929    -0.019549    -0.001764    -0.042122   \n",
       "50%      -0.050715    -0.143259     0.041081     0.112769     0.011820   \n",
       "75%       0.039157     0.017348     0.107046     0.201932     0.061889   \n",
       "max       0.575749     0.668924     0.670700     0.681157     0.614064   \n",
       "\n",
       "          MFCCs_19     MFCCs_20     MFCCs_21     MFCCs_22     RecordID  \n",
       "count  7195.000000  7195.000000  7195.000000  7195.000000  7195.000000  \n",
       "mean     -0.049474    -0.053244     0.037313     0.087567    25.220014  \n",
       "std       0.082546     0.094181     0.079470     0.123442    13.214399  \n",
       "min      -0.680745    -0.361649    -0.430812    -0.379304     1.000000  \n",
       "25%      -0.106079    -0.120971    -0.017620     0.000533    15.000000  \n",
       "50%      -0.052626    -0.055180     0.031274     0.105373    22.000000  \n",
       "75%       0.006321     0.001342     0.089619     0.194819    37.000000  \n",
       "max       0.574209     0.467831     0.389797     0.432207    60.000000  \n",
       "\n",
       "[8 rows x 23 columns]"
      ]
     },
     "execution_count": 4,
     "metadata": {},
     "output_type": "execute_result"
    }
   ],
   "source": [
    "df.describe()"
   ]
  },
  {
   "cell_type": "markdown",
   "metadata": {},
   "source": [
    "**1. Нормализовать данные**"
   ]
  },
  {
   "cell_type": "markdown",
   "metadata": {},
   "source": [
    "Будем проводить нормализацию через **pipeline** и **StandartScaler**."
   ]
  },
  {
   "cell_type": "code",
   "execution_count": 5,
   "metadata": {},
   "outputs": [],
   "source": [
    "from sklearn.pipeline import make_pipeline\n",
    "from sklearn.preprocessing import StandardScaler"
   ]
  },
  {
   "cell_type": "markdown",
   "metadata": {},
   "source": [
    "**2. Построить бинарный классификатор для каждого семейства(Family) на основе LogisticRegression c $l_1$ и $l_2$ регуляризацими. Это соответствует целевым исходам (Конкретное семейство, Всё остальное). Подобрать гиперпараметр $C$ с помощью кросс-валидации, используя метрику ROC AUC.**"
   ]
  },
  {
   "cell_type": "markdown",
   "metadata": {},
   "source": [
    "Немного подготовим наши данные"
   ]
  },
  {
   "cell_type": "code",
   "execution_count": 19,
   "metadata": {},
   "outputs": [],
   "source": [
    "# Отбираем только нужные столбцы\n",
    "data = df.drop([\"Family\", \"Genus\", \"Species\", \"RecordID\"], axis=1).values\n",
    "\n",
    "families = df[\"Family\"].unique()"
   ]
  },
  {
   "cell_type": "markdown",
   "metadata": {},
   "source": [
    "Соберем классификатор для $l_2$-регуляризации"
   ]
  },
  {
   "cell_type": "code",
   "execution_count": 27,
   "metadata": {},
   "outputs": [],
   "source": [
    "# Будем использовать LogisticRegressionCV для поиска оптимального значения C\n",
    "from sklearn.linear_model import LogisticRegressionCV\n",
    "\n",
    "# Создаем объект для разбиения по фолдам, не забываем данные перемешать, т.к. они существенно упорядочены\n",
    "from sklearn.model_selection import StratifiedKFold\n",
    "cv = StratifiedKFold(n_splits=3, shuffle=True, random_state=13)\n",
    "\n",
    "Cs = np.logspace(-5, 5, 11)\n",
    "\n",
    "pipel2 = make_pipeline(StandardScaler(), \n",
    "                       LogisticRegressionCV(\n",
    "                           cv=cv,\n",
    "                           Cs=Cs, \n",
    "                           penalty=\"l2\", \n",
    "                           solver=\"liblinear\",\n",
    "                           scoring=\"roc_auc\"))"
   ]
  },
  {
   "cell_type": "markdown",
   "metadata": {},
   "source": [
    "Соберем классификатор для $l_1$-регуляризации"
   ]
  },
  {
   "cell_type": "code",
   "execution_count": 28,
   "metadata": {},
   "outputs": [],
   "source": [
    "# Создаем объект для разбиения по фолда, не забываем данные перемешать, т.к. они существенно упорядочены\n",
    "from sklearn.model_selection import StratifiedKFold\n",
    "cv = StratifiedKFold(n_splits=3, shuffle=True, random_state=13)\n",
    "\n",
    "Cs = np.logspace(-5, 5, 11)\n",
    "\n",
    "# Немного увеличим max_iter, чтобы алгоритм успевал сходиться\n",
    "pipel1 = make_pipeline(StandardScaler(), \n",
    "                       LogisticRegressionCV(\n",
    "                           cv=cv,\n",
    "                           Cs=Cs, \n",
    "                           penalty=\"l1\", \n",
    "                           solver=\"saga\",\n",
    "                           max_iter=10000,\n",
    "                           scoring=\"roc_auc\"))"
   ]
  },
  {
   "cell_type": "markdown",
   "metadata": {},
   "source": [
    " А теперь просто перебираем все семейства"
   ]
  },
  {
   "cell_type": "code",
   "execution_count": 31,
   "metadata": {},
   "outputs": [
    {
     "name": "stdout",
     "output_type": "stream",
     "text": [
      "Leptodactylidae\n",
      "\tL2\n",
      "\t\tC =  [1000.]\n",
      "\t\tROC AUC =  [0.97843119 0.98289132 0.98393204]\n",
      "\tL1\n",
      "\t\tC =  [100.]\n",
      "\t\tROC AUC =  [0.97843265 0.98285242 0.98392396]\n",
      "\n",
      "Dendrobatidae\n",
      "\tL2\n",
      "\t\tC =  [10000.]\n",
      "\t\tROC AUC =  [0.99436056 0.99082006 0.99652858]\n",
      "\tL1\n",
      "\t\tC =  [10.]\n",
      "\t\tROC AUC =  [0.99400435 0.99082006 0.99652609]\n",
      "\n",
      "Hylidae\n",
      "\tL2\n",
      "\t\tC =  [100000.]\n",
      "\t\tROC AUC =  [0.96773935 0.97449626 0.95665878]\n",
      "\tL1\n",
      "\t\tC =  [100000.]\n",
      "\t\tROC AUC =  [0.96776165 0.97448303 0.95660837]\n",
      "\n",
      "Bufonidae\n",
      "\tL2\n",
      "\t\tC =  [0.1]\n",
      "\t\tROC AUC =  [0.98620261 0.9684726  0.96997712]\n",
      "\tL1\n",
      "\t\tC =  [10000.]\n",
      "\t\tROC AUC =  [0.99019177 0.96139425 0.95470938]\n",
      "\n",
      "DONE\n"
     ]
    }
   ],
   "source": [
    "params = {}\n",
    "\n",
    "for family in families:\n",
    "    params[family] = {}\n",
    "    \n",
    "    print(family)\n",
    "    target = (df[\"Family\"] == family).values\n",
    "    \n",
    "    print(\"\\tL2\")\n",
    "    res = pipel2.fit(data, target)\n",
    "    \n",
    "    # Теперь посмотрим значение параметра\n",
    "    C = res.named_steps[\"logisticregressioncv\"].C_\n",
    "    Cs = res.named_steps[\"logisticregressioncv\"].Cs_ \n",
    "    \n",
    "    # И заодно достанем значение метрик для фолдов\n",
    "    scores = res.named_steps[\"logisticregressioncv\"].scores_[1]\n",
    "    \n",
    "    idx = np.where(Cs == C) # Просто находим номер значения для этого параметра\n",
    "    print(\"\\t\\tC = \", C)\n",
    "    print(\"\\t\\tROC AUC = \", scores[:,idx].ravel())\n",
    "    \n",
    "    params[family][\"l2\"] = C\n",
    "    \n",
    "    print(\"\\tL1\")\n",
    "    res = pipel1.fit(data, target)\n",
    "    \n",
    "    # Теперь посмотрим значение параметра\n",
    "    C = res.named_steps[\"logisticregressioncv\"].C_\n",
    "    Cs = res.named_steps[\"logisticregressioncv\"].Cs_ \n",
    "    \n",
    "    # И заодно достанем значение метрик для фолдов\n",
    "    scores = res.named_steps[\"logisticregressioncv\"].scores_[1]\n",
    "    \n",
    "    idx = np.where(Cs == C) # Просто находим номер значения для этого параметра\n",
    "    print(\"\\t\\tC = \", C)\n",
    "    print(\"\\t\\tROC AUC = \", scores[:,idx].ravel())\n",
    "    \n",
    "    params[family][\"l1\"] = C\n",
    "    \n",
    "    print()\n",
    "    \n",
    "print(\"DONE\")"
   ]
  },
  {
   "cell_type": "markdown",
   "metadata": {},
   "source": [
    "А теперь красивые картинки"
   ]
  },
  {
   "cell_type": "code",
   "execution_count": 55,
   "metadata": {},
   "outputs": [
    {
     "name": "stdout",
     "output_type": "stream",
     "text": [
      "{'l2': array([1000.]), 'l1': array([100.])}\n"
     ]
    },
    {
     "data": {
      "image/png": "[encoded data removed]",
      "text/plain": [
       "<Figure size 864x648 with 1 Axes>"
      ]
     },
     "metadata": {
      "needs_background": "light"
     },
     "output_type": "display_data"
    },
    {
     "name": "stdout",
     "output_type": "stream",
     "text": [
      "{'l2': array([10000.]), 'l1': array([10.])}\n"
     ]
    },
    {
     "data": {
      "image/png": "[encoded data removed]",
      "text/plain": [
       "<Figure size 864x648 with 1 Axes>"
      ]
     },
     "metadata": {
      "needs_background": "light"
     },
     "output_type": "display_data"
    },
    {
     "name": "stdout",
     "output_type": "stream",
     "text": [
      "{'l2': array([100000.]), 'l1': array([100000.])}\n"
     ]
    },
    {
     "data": {
      "image/png": "[encoded data removed]",
      "text/plain": [
       "<Figure size 864x648 with 1 Axes>"
      ]
     },
     "metadata": {
      "needs_background": "light"
     },
     "output_type": "display_data"
    },
    {
     "name": "stdout",
     "output_type": "stream",
     "text": [
      "{'l2': array([0.1]), 'l1': array([10000.])}\n"
     ]
    },
    {
     "data": {
      "image/png": "[encoded data removed]",
      "text/plain": [
       "<Figure size 864x648 with 1 Axes>"
      ]
     },
     "metadata": {
      "needs_background": "light"
     },
     "output_type": "display_data"
    }
   ],
   "source": [
    "from sklearn.metrics import plot_roc_curve, roc_curve\n",
    "from sklearn.linear_model import LogisticRegression\n",
    "\n",
    "\n",
    "\n",
    "for family in families:\n",
    "    fig, ax = plt.subplots(figsize=(12, 9))\n",
    "    ax.plot([0,0], [1,1], label=\"Random\")\n",
    " \n",
    "    target = (df[\"Family\"] == family).values\n",
    "    print(params[family])\n",
    "    l2 = make_pipeline(StandardScaler(), \n",
    "                       LogisticRegression(C=params[family][\"l2\"][0], penalty=\"l2\", solver=\"liblinear\"))\n",
    "                       \n",
    "    l1 = make_pipeline(StandardScaler(), \n",
    "                       LogisticRegression(C=params[family][\"l1\"][0], penalty=\"l1\", solver=\"saga\", max_iter=10000))\n",
    "                       \n",
    "    for i, (train, test) in enumerate(cv.split(data, target)):\n",
    "        l2.fit(data[train], target[train])\n",
    "        l1.fit(data[train], target[train])\n",
    "        \n",
    "        plot_roc_curve(l2, data[test], target[test], name=\"l2[%d]\" % i, ax=ax)\n",
    "        plot_roc_curve(l1, data[test], target[test], name=\"l1[%d]\" % i, ax=ax)\n",
    "        \n",
    "        # или можно было руками все сделать\n",
    "        # fpr, tpr, _ = roc_curve(target[test], l2.predict_proba(data[test])[:, 1])\n",
    "        # ax.plot(fpr, tpr, label=\"l2[%d]\" % i)\n",
    "    \n",
    "    ax.set(title=family)\n",
    "    ax.legend()\n",
    "    plt.show()"
   ]
  },
  {
   "cell_type": "markdown",
   "metadata": {},
   "source": [
    "В качестве упражнения рассмотрим распределения оценок принадлежности к классу в зависимости от истинного класса."
   ]
  },
  {
   "cell_type": "code",
   "execution_count": 89,
   "metadata": {},
   "outputs": [
    {
     "data": {
      "image/png": "[encoded data removed]",
      "text/plain": [
       "<Figure size 864x648 with 1 Axes>"
      ]
     },
     "metadata": {
      "needs_background": "light"
     },
     "output_type": "display_data"
    }
   ],
   "source": [
    "family = families[0]\n",
    "\n",
    "target = (df[\"Family\"] == family).values\n",
    "\n",
    "l2 = make_pipeline(StandardScaler(), \n",
    "                   LogisticRegression(C=params[family][\"l2\"][0], penalty=\"l2\", solver=\"liblinear\"))\n",
    "\n",
    "l2_0 = np.asarray([])\n",
    "l2_1 = np.asarray([])\n",
    "\n",
    "for i, (train, test) in enumerate(cv.split(data, target)):\n",
    "    l2.fit(data[train], target[train])\n",
    "    \n",
    "    prob_l2 = l2.predict_proba(data[test])\n",
    "    \n",
    "    # Мы берем значения в предположении гипотезы, что у нас наблюдается выбранное семейство\n",
    "    l2_0 = np.concatenate([l2_0, prob_l2[target[test] == 0][:,1]])\n",
    "    l2_1 = np.concatenate([l2_1, prob_l2[target[test] == 1][:,1]])\n",
    "\n",
    "plt.figure(figsize=(12, 9))\n",
    "plt.hist(l2_0, bins=50, label=\"Other\", alpha=0.33)\n",
    "plt.hist(l2_1, bins=50, label=family, alpha=0.33)\n",
    "plt.legend()\n",
    "plt.show()"
   ]
  },
  {
   "cell_type": "markdown",
   "metadata": {},
   "source": [
    "**3. Добавить полиномиальные признаки до второго порядка. Построить бинарный классификатор для каждого семейства на основе LogisticRegression c $l_1$ и $l_2$ регуляризацими. Подобрать гиперпараметр $C$ с помощью кросс-валидации, используя метрику ROC AUC.**"
   ]
  },
  {
   "cell_type": "code",
   "execution_count": 56,
   "metadata": {},
   "outputs": [],
   "source": [
    "# Мы слишком ленивые, чтобы делать это сами\n",
    "from sklearn.preprocessing import PolynomialFeatures"
   ]
  },
  {
   "cell_type": "markdown",
   "metadata": {},
   "source": [
    "Также соберем наши классификаторы"
   ]
  },
  {
   "cell_type": "code",
   "execution_count": 57,
   "metadata": {},
   "outputs": [],
   "source": [
    "cv = StratifiedKFold(n_splits=2, shuffle=True, random_state=13)\n",
    "\n",
    "Cs = np.logspace(-5, 5, 11)\n",
    "pipel2p = make_pipeline(PolynomialFeatures(2),\n",
    "                        StandardScaler(), \n",
    "                        LogisticRegressionCV(\n",
    "                            cv=cv,\n",
    "                            Cs=Cs, \n",
    "                            penalty=\"l2\", \n",
    "                            solver=\"liblinear\",\n",
    "                            max_iter=10000,\n",
    "                            scoring=\"roc_auc\"))\n",
    "\n",
    "\n",
    "\n",
    "cv = StratifiedKFold(n_splits=2, shuffle=True, random_state=13)\n",
    "\n",
    "Cs = np.logspace(-5, 5, 11)\n",
    "pipel1p = make_pipeline(PolynomialFeatures(2),\n",
    "                        StandardScaler(), \n",
    "                        LogisticRegressionCV(\n",
    "                            cv=cv,\n",
    "                            Cs=Cs, \n",
    "                            penalty=\"l1\", \n",
    "                            solver=\"saga\",\n",
    "                            max_iter=10000,\n",
    "                            scoring=\"roc_auc\"))"
   ]
  },
  {
   "cell_type": "markdown",
   "metadata": {},
   "source": [
    "А теперь просто выведем все результаты"
   ]
  },
  {
   "cell_type": "code",
   "execution_count": 59,
   "metadata": {},
   "outputs": [
    {
     "name": "stdout",
     "output_type": "stream",
     "text": [
      "Leptodactylidae\n",
      "\tL2\n",
      "\t\tC =  [1.]\n",
      "\t\tROC AUC =  [0.99093001 0.99675885]\n",
      "\tL1\n",
      "\t\tC =  [100000.]\n",
      "\t\tROC AUC =  [0.99120353 0.99612791]\n",
      "\n",
      "Dendrobatidae\n",
      "\tL2\n",
      "\t\tC =  [10.]\n",
      "\t\tROC AUC =  [0.99969388 0.99971265]\n",
      "\tL1\n",
      "\t\tC =  [100.]\n",
      "\t\tROC AUC =  [0.99985471 0.99957286]\n",
      "\n",
      "Hylidae\n",
      "\tL2\n",
      "\t\tC =  [0.1]\n",
      "\t\tROC AUC =  [0.99424432 0.9933181 ]\n",
      "\tL1\n",
      "\t\tC =  [1.]\n",
      "\t\tROC AUC =  [0.99500173 0.99348162]\n",
      "\n",
      "Bufonidae\n",
      "\tL2\n",
      "\t\tC =  [0.01]\n",
      "\t\tROC AUC =  [0.95744207 0.99013554]\n",
      "\tL1\n",
      "\t\tC =  [0.1]\n",
      "\t\tROC AUC =  [0.97270086 0.97655644]\n",
      "\n",
      "DONE\n"
     ]
    }
   ],
   "source": [
    "for family in families:\n",
    "    print(family)\n",
    "    target = (df[\"Family\"] == family).values\n",
    "    \n",
    "    print(\"\\tL2\")\n",
    "    res = pipel2p.fit(data, target)\n",
    "    # Теперь посмотрим значение параметра\n",
    "    C = res.named_steps[\"logisticregressioncv\"].C_\n",
    "    Cs = res.named_steps[\"logisticregressioncv\"].Cs_ \n",
    "    # И заодно достанем значение метрик для фолдов\n",
    "    scores = res.named_steps[\"logisticregressioncv\"].scores_[1]\n",
    "    idx = np.where(Cs == C) # Просто находим номер значения для этого параметра\n",
    "    print(\"\\t\\tC = \", C)\n",
    "    print(\"\\t\\tROC AUC = \", scores[:,idx].ravel())\n",
    "    \n",
    "    print(\"\\tL1\")\n",
    "    res = pipel1p.fit(data, target)\n",
    "    # Теперь посмотрим значение параметра\n",
    "    C = res.named_steps[\"logisticregressioncv\"].C_\n",
    "    Cs = res.named_steps[\"logisticregressioncv\"].Cs_ \n",
    "    # И заодно достанем значение метрик для фолдов\n",
    "    scores = res.named_steps[\"logisticregressioncv\"].scores_[1]\n",
    "    idx = np.where(Cs == C) # Просто находим номер значения для этого параметра\n",
    "    print(\"\\t\\tC = \", C)\n",
    "    print(\"\\t\\tROC AUC = \", scores[:,idx].ravel())\n",
    "    \n",
    "    print()\n",
    "    \n",
    "print(\"DONE\")"
   ]
  }
 ],
 "metadata": {
  "kernelspec": {
   "display_name": "Python 3",
   "language": "python",
   "name": "python3"
  },
  "language_info": {
   "codemirror_mode": {
    "name": "ipython",
    "version": 3
   },
   "file_extension": ".py",
   "mimetype": "text/x-python",
   "name": "python",
   "nbconvert_exporter": "python",
   "pygments_lexer": "ipython3",
   "version": "3.9.2"
  }
 },
 "nbformat": 4,
 "nbformat_minor": 4
}
